{
 "cells": [
  {
   "cell_type": "code",
   "execution_count": 1,
   "id": "e3320158",
   "metadata": {},
   "outputs": [],
   "source": [
    "import pandas as pd\n",
    "import numpy as np"
   ]
  },
  {
   "cell_type": "code",
   "execution_count": 3,
   "id": "5951ec9f",
   "metadata": {},
   "outputs": [],
   "source": [
    "df_anies = pd.read_csv('../../raw/anies.csv')\n",
    "df_cnbc = pd.read_csv('../../raw/cnbc.csv')\n",
    "df_ferry = pd.read_csv('../../raw/ferry.csv', sep=';', quotechar='\"')\n",
    "df_hariankompas = pd.read_csv('../../raw/hariankompas.csv', sep=';', quotechar='\"')\n",
    "df_sindo = pd.read_csv('../../raw/sindo.csv')\n",
    "df_tretan = pd.read_csv('../../raw/tretan.csv', sep=';', quotechar='\"')\n",
    "df_tribunsolo = pd.read_csv('../../raw/tribunsolo.csv')\n",
    "df_x_tomlembong = pd.read_csv('../../raw/tom_lembong.csv')"
   ]
  },
  {
   "cell_type": "markdown",
   "id": "999d17c1",
   "metadata": {},
   "source": [
    "## anies"
   ]
  },
  {
   "cell_type": "code",
   "execution_count": 5,
   "id": "ac48efca",
   "metadata": {},
   "outputs": [
    {
     "data": {
      "text/html": [
       "<div>\n",
       "<style scoped>\n",
       "    .dataframe tbody tr th:only-of-type {\n",
       "        vertical-align: middle;\n",
       "    }\n",
       "\n",
       "    .dataframe tbody tr th {\n",
       "        vertical-align: top;\n",
       "    }\n",
       "\n",
       "    .dataframe thead th {\n",
       "        text-align: right;\n",
       "    }\n",
       "</style>\n",
       "<table border=\"1\" class=\"dataframe\">\n",
       "  <thead>\n",
       "    <tr style=\"text-align: right;\">\n",
       "      <th></th>\n",
       "      <th>Name</th>\n",
       "      <th>ProfileUrl</th>\n",
       "      <th>Avatar</th>\n",
       "      <th>Comment</th>\n",
       "      <th>Date</th>\n",
       "    </tr>\n",
       "  </thead>\n",
       "  <tbody>\n",
       "    <tr>\n",
       "      <th>0</th>\n",
       "      <td>NOTE: This export contains only the first 500 ...</td>\n",
       "      <td>NaN</td>\n",
       "      <td>NaN</td>\n",
       "      <td>NaN</td>\n",
       "      <td>NaN</td>\n",
       "    </tr>\n",
       "    <tr>\n",
       "      <th>1</th>\n",
       "      <td>Tasya Fuad</td>\n",
       "      <td>https://www.facebook.com/ramislam.fuad</td>\n",
       "      <td>https://scontent.fjog5-1.fna.fbcdn.net/v/t39.3...</td>\n",
       "      <td>Bukan pak Tom yang mencari kebenaran tapi kebe...</td>\n",
       "      <td>2025-07-18 20:09:10</td>\n",
       "    </tr>\n",
       "    <tr>\n",
       "      <th>2</th>\n",
       "      <td>Marnotua Hasibuan</td>\n",
       "      <td>https://www.facebook.com/marnotua.hasibuan.2025</td>\n",
       "      <td>https://scontent.fjog5-1.fna.fbcdn.net/v/t39.3...</td>\n",
       "      <td>Di duga hukuman 4.5 tahun penjara Terhadap bap...</td>\n",
       "      <td>2025-07-18 20:12:20</td>\n",
       "    </tr>\n",
       "  </tbody>\n",
       "</table>\n",
       "</div>"
      ],
      "text/plain": [
       "                                                Name  \\\n",
       "0  NOTE: This export contains only the first 500 ...   \n",
       "1                                         Tasya Fuad   \n",
       "2                                  Marnotua Hasibuan   \n",
       "\n",
       "                                        ProfileUrl  \\\n",
       "0                                              NaN   \n",
       "1           https://www.facebook.com/ramislam.fuad   \n",
       "2  https://www.facebook.com/marnotua.hasibuan.2025   \n",
       "\n",
       "                                              Avatar  \\\n",
       "0                                                NaN   \n",
       "1  https://scontent.fjog5-1.fna.fbcdn.net/v/t39.3...   \n",
       "2  https://scontent.fjog5-1.fna.fbcdn.net/v/t39.3...   \n",
       "\n",
       "                                             Comment                 Date  \n",
       "0                                                NaN                  NaN  \n",
       "1  Bukan pak Tom yang mencari kebenaran tapi kebe...  2025-07-18 20:09:10  \n",
       "2  Di duga hukuman 4.5 tahun penjara Terhadap bap...  2025-07-18 20:12:20  "
      ]
     },
     "execution_count": 5,
     "metadata": {},
     "output_type": "execute_result"
    }
   ],
   "source": [
    "df_anies.head(3)"
   ]
  },
  {
   "cell_type": "code",
   "execution_count": 6,
   "id": "442b38b7",
   "metadata": {},
   "outputs": [
    {
     "data": {
      "text/html": [
       "<div>\n",
       "<style scoped>\n",
       "    .dataframe tbody tr th:only-of-type {\n",
       "        vertical-align: middle;\n",
       "    }\n",
       "\n",
       "    .dataframe tbody tr th {\n",
       "        vertical-align: top;\n",
       "    }\n",
       "\n",
       "    .dataframe thead th {\n",
       "        text-align: right;\n",
       "    }\n",
       "</style>\n",
       "<table border=\"1\" class=\"dataframe\">\n",
       "  <thead>\n",
       "    <tr style=\"text-align: right;\">\n",
       "      <th></th>\n",
       "      <th>Name</th>\n",
       "      <th>ProfileUrl</th>\n",
       "      <th>Avatar</th>\n",
       "      <th>Comment</th>\n",
       "      <th>Date</th>\n",
       "    </tr>\n",
       "  </thead>\n",
       "  <tbody>\n",
       "    <tr>\n",
       "      <th>0</th>\n",
       "      <td>Tasya Fuad</td>\n",
       "      <td>https://www.facebook.com/ramislam.fuad</td>\n",
       "      <td>https://scontent.fjog5-1.fna.fbcdn.net/v/t39.3...</td>\n",
       "      <td>Bukan pak Tom yang mencari kebenaran tapi kebe...</td>\n",
       "      <td>2025-07-18 20:09:10</td>\n",
       "    </tr>\n",
       "    <tr>\n",
       "      <th>1</th>\n",
       "      <td>Marnotua Hasibuan</td>\n",
       "      <td>https://www.facebook.com/marnotua.hasibuan.2025</td>\n",
       "      <td>https://scontent.fjog5-1.fna.fbcdn.net/v/t39.3...</td>\n",
       "      <td>Di duga hukuman 4.5 tahun penjara Terhadap bap...</td>\n",
       "      <td>2025-07-18 20:12:20</td>\n",
       "    </tr>\n",
       "    <tr>\n",
       "      <th>2</th>\n",
       "      <td>Zynnx Kroco</td>\n",
       "      <td>https://www.facebook.com/zynnxkroco</td>\n",
       "      <td>https://scontent.fjog5-1.fna.fbcdn.net/v/t39.3...</td>\n",
       "      <td>ingat Saddam Hussein pak Anis, beliau difitnah...</td>\n",
       "      <td>2025-07-18 21:56:15</td>\n",
       "    </tr>\n",
       "  </tbody>\n",
       "</table>\n",
       "</div>"
      ],
      "text/plain": [
       "                Name                                       ProfileUrl  \\\n",
       "0         Tasya Fuad           https://www.facebook.com/ramislam.fuad   \n",
       "1  Marnotua Hasibuan  https://www.facebook.com/marnotua.hasibuan.2025   \n",
       "2        Zynnx Kroco              https://www.facebook.com/zynnxkroco   \n",
       "\n",
       "                                              Avatar  \\\n",
       "0  https://scontent.fjog5-1.fna.fbcdn.net/v/t39.3...   \n",
       "1  https://scontent.fjog5-1.fna.fbcdn.net/v/t39.3...   \n",
       "2  https://scontent.fjog5-1.fna.fbcdn.net/v/t39.3...   \n",
       "\n",
       "                                             Comment                 Date  \n",
       "0  Bukan pak Tom yang mencari kebenaran tapi kebe...  2025-07-18 20:09:10  \n",
       "1  Di duga hukuman 4.5 tahun penjara Terhadap bap...  2025-07-18 20:12:20  \n",
       "2  ingat Saddam Hussein pak Anis, beliau difitnah...  2025-07-18 21:56:15  "
      ]
     },
     "execution_count": 6,
     "metadata": {},
     "output_type": "execute_result"
    }
   ],
   "source": [
    "df_anies = df_anies.iloc[1:].reset_index(drop=True)\n",
    "df_anies.head(3)"
   ]
  },
  {
   "cell_type": "code",
   "execution_count": 7,
   "id": "1f035b93",
   "metadata": {},
   "outputs": [
    {
     "data": {
      "text/html": [
       "<div>\n",
       "<style scoped>\n",
       "    .dataframe tbody tr th:only-of-type {\n",
       "        vertical-align: middle;\n",
       "    }\n",
       "\n",
       "    .dataframe tbody tr th {\n",
       "        vertical-align: top;\n",
       "    }\n",
       "\n",
       "    .dataframe thead th {\n",
       "        text-align: right;\n",
       "    }\n",
       "</style>\n",
       "<table border=\"1\" class=\"dataframe\">\n",
       "  <thead>\n",
       "    <tr style=\"text-align: right;\">\n",
       "      <th></th>\n",
       "      <th>text</th>\n",
       "    </tr>\n",
       "  </thead>\n",
       "  <tbody>\n",
       "    <tr>\n",
       "      <th>0</th>\n",
       "      <td>Bukan pak Tom yang mencari kebenaran tapi kebe...</td>\n",
       "    </tr>\n",
       "    <tr>\n",
       "      <th>1</th>\n",
       "      <td>Di duga hukuman 4.5 tahun penjara Terhadap bap...</td>\n",
       "    </tr>\n",
       "    <tr>\n",
       "      <th>2</th>\n",
       "      <td>ingat Saddam Hussein pak Anis, beliau difitnah...</td>\n",
       "    </tr>\n",
       "  </tbody>\n",
       "</table>\n",
       "</div>"
      ],
      "text/plain": [
       "                                                text\n",
       "0  Bukan pak Tom yang mencari kebenaran tapi kebe...\n",
       "1  Di duga hukuman 4.5 tahun penjara Terhadap bap...\n",
       "2  ingat Saddam Hussein pak Anis, beliau difitnah..."
      ]
     },
     "execution_count": 7,
     "metadata": {},
     "output_type": "execute_result"
    }
   ],
   "source": [
    "df_anies = df_anies[['Comment']]\n",
    "#rename columns Comment to text\n",
    "df_anies.rename(columns={'Comment': 'text'}, inplace=True)\n",
    "df_anies.head(3)"
   ]
  },
  {
   "cell_type": "markdown",
   "id": "6386bcca",
   "metadata": {},
   "source": [
    "## cnbc"
   ]
  },
  {
   "cell_type": "code",
   "execution_count": 10,
   "id": "d015a2dc",
   "metadata": {},
   "outputs": [
    {
     "data": {
      "text/html": [
       "<div>\n",
       "<style scoped>\n",
       "    .dataframe tbody tr th:only-of-type {\n",
       "        vertical-align: middle;\n",
       "    }\n",
       "\n",
       "    .dataframe tbody tr th {\n",
       "        vertical-align: top;\n",
       "    }\n",
       "\n",
       "    .dataframe thead th {\n",
       "        text-align: right;\n",
       "    }\n",
       "</style>\n",
       "<table border=\"1\" class=\"dataframe\">\n",
       "  <thead>\n",
       "    <tr style=\"text-align: right;\">\n",
       "      <th></th>\n",
       "      <th>text</th>\n",
       "    </tr>\n",
       "  </thead>\n",
       "  <tbody>\n",
       "    <tr>\n",
       "      <th>0</th>\n",
       "      <td>Tom Lembong hanya menjalankan perintah dari at...</td>\n",
       "    </tr>\n",
       "    <tr>\n",
       "      <th>1</th>\n",
       "      <td>Yang benar tetap benar. You are Loved Tom.. Al...</td>\n",
       "    </tr>\n",
       "    <tr>\n",
       "      <th>2</th>\n",
       "      <td>Yg nyuruh malah gak pernah dipanggil</td>\n",
       "    </tr>\n",
       "  </tbody>\n",
       "</table>\n",
       "</div>"
      ],
      "text/plain": [
       "                                                text\n",
       "0  Tom Lembong hanya menjalankan perintah dari at...\n",
       "1  Yang benar tetap benar. You are Loved Tom.. Al...\n",
       "2               Yg nyuruh malah gak pernah dipanggil"
      ]
     },
     "execution_count": 10,
     "metadata": {},
     "output_type": "execute_result"
    }
   ],
   "source": [
    "df_cnbc = df_cnbc.iloc[1:].reset_index(drop=True)\n",
    "df_cnbc = df_cnbc[['Comment']]\n",
    "df_cnbc.rename(columns={'Comment': 'text'}, inplace=True)\n",
    "df_cnbc.head(3)"
   ]
  },
  {
   "cell_type": "markdown",
   "id": "06b5d24f",
   "metadata": {},
   "source": [
    "## sindo"
   ]
  },
  {
   "cell_type": "code",
   "execution_count": 11,
   "id": "c32a6a35",
   "metadata": {},
   "outputs": [
    {
     "data": {
      "text/html": [
       "<div>\n",
       "<style scoped>\n",
       "    .dataframe tbody tr th:only-of-type {\n",
       "        vertical-align: middle;\n",
       "    }\n",
       "\n",
       "    .dataframe tbody tr th {\n",
       "        vertical-align: top;\n",
       "    }\n",
       "\n",
       "    .dataframe thead th {\n",
       "        text-align: right;\n",
       "    }\n",
       "</style>\n",
       "<table border=\"1\" class=\"dataframe\">\n",
       "  <thead>\n",
       "    <tr style=\"text-align: right;\">\n",
       "      <th></th>\n",
       "      <th>text</th>\n",
       "    </tr>\n",
       "  </thead>\n",
       "  <tbody>\n",
       "    <tr>\n",
       "      <th>0</th>\n",
       "      <td>yg nyuruh tu coba berani gk di adili</td>\n",
       "    </tr>\n",
       "    <tr>\n",
       "      <th>1</th>\n",
       "      <td>Periksa rekening dan hartanya jaksa penuntut d...</td>\n",
       "    </tr>\n",
       "    <tr>\n",
       "      <th>2</th>\n",
       "      <td>Tidak ada uang yang dia korupsi kalaupun tuduh...</td>\n",
       "    </tr>\n",
       "  </tbody>\n",
       "</table>\n",
       "</div>"
      ],
      "text/plain": [
       "                                                text\n",
       "0               yg nyuruh tu coba berani gk di adili\n",
       "1  Periksa rekening dan hartanya jaksa penuntut d...\n",
       "2  Tidak ada uang yang dia korupsi kalaupun tuduh..."
      ]
     },
     "execution_count": 11,
     "metadata": {},
     "output_type": "execute_result"
    }
   ],
   "source": [
    "df_sindo = df_sindo.iloc[1:].reset_index(drop=True)\n",
    "df_sindo = df_sindo[['Comment']]\n",
    "df_sindo.rename(columns={'Comment': 'text'}, inplace=True)\n",
    "df_sindo.head(3)"
   ]
  },
  {
   "cell_type": "markdown",
   "id": "5dabab63",
   "metadata": {},
   "source": [
    "## tribun solo"
   ]
  },
  {
   "cell_type": "code",
   "execution_count": 12,
   "id": "14c8d422",
   "metadata": {},
   "outputs": [
    {
     "data": {
      "text/html": [
       "<div>\n",
       "<style scoped>\n",
       "    .dataframe tbody tr th:only-of-type {\n",
       "        vertical-align: middle;\n",
       "    }\n",
       "\n",
       "    .dataframe tbody tr th {\n",
       "        vertical-align: top;\n",
       "    }\n",
       "\n",
       "    .dataframe thead th {\n",
       "        text-align: right;\n",
       "    }\n",
       "</style>\n",
       "<table border=\"1\" class=\"dataframe\">\n",
       "  <thead>\n",
       "    <tr style=\"text-align: right;\">\n",
       "      <th></th>\n",
       "      <th>text</th>\n",
       "    </tr>\n",
       "  </thead>\n",
       "  <tbody>\n",
       "    <tr>\n",
       "      <th>0</th>\n",
       "      <td>Institusi penegak hukum di negara ini benar2 s...</td>\n",
       "    </tr>\n",
       "    <tr>\n",
       "      <th>1</th>\n",
       "      <td>Tom lembong sedang menghadap ketua genk hakim ...</td>\n",
       "    </tr>\n",
       "    <tr>\n",
       "      <th>2</th>\n",
       "      <td>Kapan Indonesia saya ini jujur</td>\n",
       "    </tr>\n",
       "  </tbody>\n",
       "</table>\n",
       "</div>"
      ],
      "text/plain": [
       "                                                text\n",
       "0  Institusi penegak hukum di negara ini benar2 s...\n",
       "1  Tom lembong sedang menghadap ketua genk hakim ...\n",
       "2                     Kapan Indonesia saya ini jujur"
      ]
     },
     "execution_count": 12,
     "metadata": {},
     "output_type": "execute_result"
    }
   ],
   "source": [
    "df_tribunsolo = df_tribunsolo.iloc[1:].reset_index(drop=True)\n",
    "df_tribunsolo = df_tribunsolo[['Comment']]\n",
    "df_tribunsolo.rename(columns={'Comment': 'text'}, inplace=True)\n",
    "df_tribunsolo.head(3)"
   ]
  },
  {
   "cell_type": "markdown",
   "id": "3ace7316",
   "metadata": {},
   "source": [
    "## ferry"
   ]
  },
  {
   "cell_type": "code",
   "execution_count": 15,
   "id": "aaabf235",
   "metadata": {},
   "outputs": [
    {
     "data": {
      "text/html": [
       "<div>\n",
       "<style scoped>\n",
       "    .dataframe tbody tr th:only-of-type {\n",
       "        vertical-align: middle;\n",
       "    }\n",
       "\n",
       "    .dataframe tbody tr th {\n",
       "        vertical-align: top;\n",
       "    }\n",
       "\n",
       "    .dataframe thead th {\n",
       "        text-align: right;\n",
       "    }\n",
       "</style>\n",
       "<table border=\"1\" class=\"dataframe\">\n",
       "  <thead>\n",
       "    <tr style=\"text-align: right;\">\n",
       "      <th></th>\n",
       "      <th>text</th>\n",
       "    </tr>\n",
       "  </thead>\n",
       "  <tbody>\n",
       "    <tr>\n",
       "      <th>0</th>\n",
       "      <td>@figo_handoko Secara yuridis (hukum formal):\\n...</td>\n",
       "    </tr>\n",
       "    <tr>\n",
       "      <th>1</th>\n",
       "      <td>Ayo rakyat bersatu di dunia nyata, mumpung ada...</td>\n",
       "    </tr>\n",
       "    <tr>\n",
       "      <th>2</th>\n",
       "      <td>@ikhwanulhakim__ apasih</td>\n",
       "    </tr>\n",
       "  </tbody>\n",
       "</table>\n",
       "</div>"
      ],
      "text/plain": [
       "                                                text\n",
       "0  @figo_handoko Secara yuridis (hukum formal):\\n...\n",
       "1  Ayo rakyat bersatu di dunia nyata, mumpung ada...\n",
       "2                            @ikhwanulhakim__ apasih"
      ]
     },
     "execution_count": 15,
     "metadata": {},
     "output_type": "execute_result"
    }
   ],
   "source": [
    "df_ferry = df_ferry[['text']]\n",
    "df_ferry.head(3)"
   ]
  },
  {
   "cell_type": "markdown",
   "id": "dbbdb96c",
   "metadata": {},
   "source": [
    "## tretan"
   ]
  },
  {
   "cell_type": "code",
   "execution_count": 16,
   "id": "ef83bc9d",
   "metadata": {},
   "outputs": [
    {
     "data": {
      "text/html": [
       "<div>\n",
       "<style scoped>\n",
       "    .dataframe tbody tr th:only-of-type {\n",
       "        vertical-align: middle;\n",
       "    }\n",
       "\n",
       "    .dataframe tbody tr th {\n",
       "        vertical-align: top;\n",
       "    }\n",
       "\n",
       "    .dataframe thead th {\n",
       "        text-align: right;\n",
       "    }\n",
       "</style>\n",
       "<table border=\"1\" class=\"dataframe\">\n",
       "  <thead>\n",
       "    <tr style=\"text-align: right;\">\n",
       "      <th></th>\n",
       "      <th>text</th>\n",
       "    </tr>\n",
       "  </thead>\n",
       "  <tbody>\n",
       "    <tr>\n",
       "      <th>0</th>\n",
       "      <td>Negeri Tai Anjing</td>\n",
       "    </tr>\n",
       "    <tr>\n",
       "      <th>1</th>\n",
       "      <td>Yuk rakyat 🇮🇩 kencengin shalawat asyghil.. 😢😢</td>\n",
       "    </tr>\n",
       "    <tr>\n",
       "      <th>2</th>\n",
       "      <td>Kami bersama pak Tom...🔥🔥🔥</td>\n",
       "    </tr>\n",
       "  </tbody>\n",
       "</table>\n",
       "</div>"
      ],
      "text/plain": [
       "                                            text\n",
       "0                              Negeri Tai Anjing\n",
       "1  Yuk rakyat 🇮🇩 kencengin shalawat asyghil.. 😢😢\n",
       "2                     Kami bersama pak Tom...🔥🔥🔥"
      ]
     },
     "execution_count": 16,
     "metadata": {},
     "output_type": "execute_result"
    }
   ],
   "source": [
    "df_tretan = df_tretan[['text']]\n",
    "df_tretan.head(3)"
   ]
  },
  {
   "cell_type": "markdown",
   "id": "094ddb8c",
   "metadata": {},
   "source": [
    "## harian kompas"
   ]
  },
  {
   "cell_type": "code",
   "execution_count": 19,
   "id": "10dc87e4",
   "metadata": {},
   "outputs": [
    {
     "data": {
      "text/html": [
       "<div>\n",
       "<style scoped>\n",
       "    .dataframe tbody tr th:only-of-type {\n",
       "        vertical-align: middle;\n",
       "    }\n",
       "\n",
       "    .dataframe tbody tr th {\n",
       "        vertical-align: top;\n",
       "    }\n",
       "\n",
       "    .dataframe thead th {\n",
       "        text-align: right;\n",
       "    }\n",
       "</style>\n",
       "<table border=\"1\" class=\"dataframe\">\n",
       "  <thead>\n",
       "    <tr style=\"text-align: right;\">\n",
       "      <th></th>\n",
       "      <th>text</th>\n",
       "    </tr>\n",
       "  </thead>\n",
       "  <tbody>\n",
       "    <tr>\n",
       "      <th>0</th>\n",
       "      <td>Rakyat semakin tau betapa caur nya hukum dineg...</td>\n",
       "    </tr>\n",
       "    <tr>\n",
       "      <th>1</th>\n",
       "      <td>Kita belajar banyak tentang rusaknya hukum ind...</td>\n",
       "    </tr>\n",
       "    <tr>\n",
       "      <th>2</th>\n",
       "      <td>Paaak 😢</td>\n",
       "    </tr>\n",
       "  </tbody>\n",
       "</table>\n",
       "</div>"
      ],
      "text/plain": [
       "                                                text\n",
       "0  Rakyat semakin tau betapa caur nya hukum dineg...\n",
       "1  Kita belajar banyak tentang rusaknya hukum ind...\n",
       "2                                            Paaak 😢"
      ]
     },
     "execution_count": 19,
     "metadata": {},
     "output_type": "execute_result"
    }
   ],
   "source": [
    "df_hariankompas = df_hariankompas[['text']]\n",
    "df_hariankompas.head(3)"
   ]
  },
  {
   "cell_type": "markdown",
   "id": "dc43c425",
   "metadata": {},
   "source": [
    "## x tom lembong"
   ]
  },
  {
   "cell_type": "code",
   "execution_count": 20,
   "id": "16b3e977",
   "metadata": {},
   "outputs": [
    {
     "data": {
      "text/html": [
       "<div>\n",
       "<style scoped>\n",
       "    .dataframe tbody tr th:only-of-type {\n",
       "        vertical-align: middle;\n",
       "    }\n",
       "\n",
       "    .dataframe tbody tr th {\n",
       "        vertical-align: top;\n",
       "    }\n",
       "\n",
       "    .dataframe thead th {\n",
       "        text-align: right;\n",
       "    }\n",
       "</style>\n",
       "<table border=\"1\" class=\"dataframe\">\n",
       "  <thead>\n",
       "    <tr style=\"text-align: right;\">\n",
       "      <th></th>\n",
       "      <th>Name</th>\n",
       "      <th>Handle</th>\n",
       "      <th>Timestamp</th>\n",
       "      <th>Verified</th>\n",
       "      <th>Content</th>\n",
       "      <th>Comments</th>\n",
       "      <th>Retweets</th>\n",
       "      <th>Likes</th>\n",
       "      <th>Analytics</th>\n",
       "      <th>Tags</th>\n",
       "      <th>Mentions</th>\n",
       "      <th>Emojis</th>\n",
       "      <th>Profile Image</th>\n",
       "      <th>Tweet Link</th>\n",
       "      <th>Tweet ID</th>\n",
       "    </tr>\n",
       "  </thead>\n",
       "  <tbody>\n",
       "    <tr>\n",
       "      <th>0</th>\n",
       "      <td>Grok</td>\n",
       "      <td>@grok</td>\n",
       "      <td>2025-07-20T18:33:43.000Z</td>\n",
       "      <td>True</td>\n",
       "      <td>Dari tweetmu yg sering interaksi sosial, nanya...</td>\n",
       "      <td>0</td>\n",
       "      <td>0</td>\n",
       "      <td>0</td>\n",
       "      <td>10</td>\n",
       "      <td>[]</td>\n",
       "      <td>[]</td>\n",
       "      <td>['\\\\U0001f60a']</td>\n",
       "      <td>https://pbs.twimg.com/profile_images/189321911...</td>\n",
       "      <td>https://x.com/grok/status/1947001995023589635</td>\n",
       "      <td>tweet_id:1947001995023589635</td>\n",
       "    </tr>\n",
       "    <tr>\n",
       "      <th>1</th>\n",
       "      <td>Driver ngalong</td>\n",
       "      <td>@ImoetSakha</td>\n",
       "      <td>2025-07-20T18:32:17.000Z</td>\n",
       "      <td>False</td>\n",
       "      <td>Tom lembong nasibmu kini</td>\n",
       "      <td>0</td>\n",
       "      <td>0</td>\n",
       "      <td>0</td>\n",
       "      <td>4</td>\n",
       "      <td>[]</td>\n",
       "      <td>[]</td>\n",
       "      <td>[]</td>\n",
       "      <td>https://pbs.twimg.com/profile_images/192519243...</td>\n",
       "      <td>https://x.com/ImoetSakha/status/19470016314025...</td>\n",
       "      <td>tweet_id:1947001631402532959</td>\n",
       "    </tr>\n",
       "    <tr>\n",
       "      <th>2</th>\n",
       "      <td>noneofyourbussiness</td>\n",
       "      <td>@yourcl1ngyleo</td>\n",
       "      <td>2025-07-20T18:29:23.000Z</td>\n",
       "      <td>False</td>\n",
       "      <td>babi sensitif bgt gw hal2 kecil aj gw emosiona...</td>\n",
       "      <td>0</td>\n",
       "      <td>0</td>\n",
       "      <td>0</td>\n",
       "      <td>9</td>\n",
       "      <td>[]</td>\n",
       "      <td>[]</td>\n",
       "      <td>[]</td>\n",
       "      <td>https://pbs.twimg.com/profile_images/187281663...</td>\n",
       "      <td>https://x.com/yourcl1ngyleo/status/19470009024...</td>\n",
       "      <td>tweet_id:1947000902428381361</td>\n",
       "    </tr>\n",
       "  </tbody>\n",
       "</table>\n",
       "</div>"
      ],
      "text/plain": [
       "                  Name          Handle                 Timestamp  Verified  \\\n",
       "0                 Grok           @grok  2025-07-20T18:33:43.000Z      True   \n",
       "1       Driver ngalong     @ImoetSakha  2025-07-20T18:32:17.000Z     False   \n",
       "2  noneofyourbussiness  @yourcl1ngyleo  2025-07-20T18:29:23.000Z     False   \n",
       "\n",
       "                                             Content  Comments  Retweets  \\\n",
       "0  Dari tweetmu yg sering interaksi sosial, nanya...         0         0   \n",
       "1                           Tom lembong nasibmu kini         0         0   \n",
       "2  babi sensitif bgt gw hal2 kecil aj gw emosiona...         0         0   \n",
       "\n",
       "   Likes Analytics Tags Mentions           Emojis  \\\n",
       "0      0        10   []       []  ['\\\\U0001f60a']   \n",
       "1      0         4   []       []               []   \n",
       "2      0         9   []       []               []   \n",
       "\n",
       "                                       Profile Image  \\\n",
       "0  https://pbs.twimg.com/profile_images/189321911...   \n",
       "1  https://pbs.twimg.com/profile_images/192519243...   \n",
       "2  https://pbs.twimg.com/profile_images/187281663...   \n",
       "\n",
       "                                          Tweet Link  \\\n",
       "0      https://x.com/grok/status/1947001995023589635   \n",
       "1  https://x.com/ImoetSakha/status/19470016314025...   \n",
       "2  https://x.com/yourcl1ngyleo/status/19470009024...   \n",
       "\n",
       "                       Tweet ID  \n",
       "0  tweet_id:1947001995023589635  \n",
       "1  tweet_id:1947001631402532959  \n",
       "2  tweet_id:1947000902428381361  "
      ]
     },
     "execution_count": 20,
     "metadata": {},
     "output_type": "execute_result"
    }
   ],
   "source": [
    "df_x_tomlembong.head(3)"
   ]
  },
  {
   "cell_type": "code",
   "execution_count": 23,
   "id": "0fcb0ced",
   "metadata": {},
   "outputs": [
    {
     "name": "stdout",
     "output_type": "stream",
     "text": [
      "Jumlah baris df_x_tomlembong: 901\n"
     ]
    }
   ],
   "source": [
    "df_x_tomlembong = df_x_tomlembong[df_x_tomlembong['Handle'] != '@grok'].reset_index(drop=True)\n",
    "# melihat banyak baris\n",
    "print(f'Jumlah baris df_x_tomlembong: {df_x_tomlembong.shape[0]}')"
   ]
  },
  {
   "cell_type": "code",
   "execution_count": 24,
   "id": "c6030b64",
   "metadata": {},
   "outputs": [
    {
     "data": {
      "text/html": [
       "<div>\n",
       "<style scoped>\n",
       "    .dataframe tbody tr th:only-of-type {\n",
       "        vertical-align: middle;\n",
       "    }\n",
       "\n",
       "    .dataframe tbody tr th {\n",
       "        vertical-align: top;\n",
       "    }\n",
       "\n",
       "    .dataframe thead th {\n",
       "        text-align: right;\n",
       "    }\n",
       "</style>\n",
       "<table border=\"1\" class=\"dataframe\">\n",
       "  <thead>\n",
       "    <tr style=\"text-align: right;\">\n",
       "      <th></th>\n",
       "      <th>text</th>\n",
       "    </tr>\n",
       "  </thead>\n",
       "  <tbody>\n",
       "    <tr>\n",
       "      <th>0</th>\n",
       "      <td>Tom lembong nasibmu kini</td>\n",
       "    </tr>\n",
       "    <tr>\n",
       "      <th>1</th>\n",
       "      <td>babi sensitif bgt gw hal2 kecil aj gw emosiona...</td>\n",
       "    </tr>\n",
       "    <tr>\n",
       "      <th>2</th>\n",
       "      <td>Menurut Dr. Edi, proses panjang kasus Tom Lemb...</td>\n",
       "    </tr>\n",
       "  </tbody>\n",
       "</table>\n",
       "</div>"
      ],
      "text/plain": [
       "                                                text\n",
       "0                           Tom lembong nasibmu kini\n",
       "1  babi sensitif bgt gw hal2 kecil aj gw emosiona...\n",
       "2  Menurut Dr. Edi, proses panjang kasus Tom Lemb..."
      ]
     },
     "execution_count": 24,
     "metadata": {},
     "output_type": "execute_result"
    }
   ],
   "source": [
    "df_x_tomlembong = df_x_tomlembong[['Content']]\n",
    "df_x_tomlembong.rename(columns={'Content': 'text'}, inplace=True)\n",
    "df_x_tomlembong.head(3)"
   ]
  },
  {
   "cell_type": "markdown",
   "id": "52b26086",
   "metadata": {},
   "source": [
    "# Concat all"
   ]
  },
  {
   "cell_type": "code",
   "execution_count": 25,
   "id": "62dd0928",
   "metadata": {},
   "outputs": [
    {
     "name": "stdout",
     "output_type": "stream",
     "text": [
      "Jumlah baris df: 7249\n"
     ]
    }
   ],
   "source": [
    "df = pd.concat([df_anies, df_cnbc, df_ferry, df_hariankompas, df_sindo, df_tretan, df_tribunsolo, df_x_tomlembong], ignore_index=True)\n",
    "# melihat banyak baris \n",
    "print(f'Jumlah baris df: {df.shape[0]}')"
   ]
  },
  {
   "cell_type": "code",
   "execution_count": 26,
   "id": "b069a3ca",
   "metadata": {},
   "outputs": [
    {
     "data": {
      "text/html": [
       "<div>\n",
       "<style scoped>\n",
       "    .dataframe tbody tr th:only-of-type {\n",
       "        vertical-align: middle;\n",
       "    }\n",
       "\n",
       "    .dataframe tbody tr th {\n",
       "        vertical-align: top;\n",
       "    }\n",
       "\n",
       "    .dataframe thead th {\n",
       "        text-align: right;\n",
       "    }\n",
       "</style>\n",
       "<table border=\"1\" class=\"dataframe\">\n",
       "  <thead>\n",
       "    <tr style=\"text-align: right;\">\n",
       "      <th></th>\n",
       "      <th>text</th>\n",
       "    </tr>\n",
       "  </thead>\n",
       "  <tbody>\n",
       "    <tr>\n",
       "      <th>0</th>\n",
       "      <td>Bukan pak Tom yang mencari kebenaran tapi kebe...</td>\n",
       "    </tr>\n",
       "    <tr>\n",
       "      <th>1</th>\n",
       "      <td>Di duga hukuman 4.5 tahun penjara Terhadap bap...</td>\n",
       "    </tr>\n",
       "    <tr>\n",
       "      <th>2</th>\n",
       "      <td>ingat Saddam Hussein pak Anis, beliau difitnah...</td>\n",
       "    </tr>\n",
       "    <tr>\n",
       "      <th>3</th>\n",
       "      <td>Innalilahi wa innailaihi rojiun. Turut berduka...</td>\n",
       "    </tr>\n",
       "    <tr>\n",
       "      <th>4</th>\n",
       "      <td>Yang menzalimi pak Tom segera dapat azab yang ...</td>\n",
       "    </tr>\n",
       "  </tbody>\n",
       "</table>\n",
       "</div>"
      ],
      "text/plain": [
       "                                                text\n",
       "0  Bukan pak Tom yang mencari kebenaran tapi kebe...\n",
       "1  Di duga hukuman 4.5 tahun penjara Terhadap bap...\n",
       "2  ingat Saddam Hussein pak Anis, beliau difitnah...\n",
       "3  Innalilahi wa innailaihi rojiun. Turut berduka...\n",
       "4  Yang menzalimi pak Tom segera dapat azab yang ..."
      ]
     },
     "execution_count": 26,
     "metadata": {},
     "output_type": "execute_result"
    }
   ],
   "source": [
    "df.head()"
   ]
  },
  {
   "cell_type": "code",
   "execution_count": 27,
   "id": "0dfb7d89",
   "metadata": {},
   "outputs": [],
   "source": [
    "import os\n",
    "os.makedirs('../../processed', exist_ok=True)\n",
    "df.to_csv('../../processed/concat_data.csv', index=False)"
   ]
  }
 ],
 "metadata": {
  "kernelspec": {
   "display_name": "base",
   "language": "python",
   "name": "python3"
  },
  "language_info": {
   "codemirror_mode": {
    "name": "ipython",
    "version": 3
   },
   "file_extension": ".py",
   "mimetype": "text/x-python",
   "name": "python",
   "nbconvert_exporter": "python",
   "pygments_lexer": "ipython3",
   "version": "3.12.3"
  }
 },
 "nbformat": 4,
 "nbformat_minor": 5
}
