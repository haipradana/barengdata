{
 "cells": [
  {
   "cell_type": "code",
   "execution_count": 1,
   "id": "e3320158",
   "metadata": {},
   "outputs": [],
   "source": [
    "import pandas as pd\n",
    "import numpy as np"
   ]
  },
  {
   "cell_type": "code",
   "execution_count": 2,
   "id": "5951ec9f",
   "metadata": {},
   "outputs": [],
   "source": [
    "df_fb_e100 = pd.read_csv('../../raw/fb/fb_e100_abolisi.csv')\n",
    "df_fb_kompas = pd.read_csv('../../raw/fb/fb_kompas_abolisi.csv')\n",
    "df_ig_creativox = pd.read_csv('../../raw/ig/ig_creativox_abolisi.csv', sep=';', quotechar='\"')\n",
    "df_ig_folkative = pd.read_csv('../../raw/ig/ig_folkative_abolisi.csv', sep=';', quotechar='\"')\n",
    "df_ig_narasi = pd.read_csv('../../raw/ig/ig_narasi_abolisi.csv', sep=';', quotechar='\"')\n",
    "df_tiktok_andromeda = pd.read_csv('../../raw/tiktok/tiktok_andromeda_abolisi.csv')\n",
    "df_tiktok_inilahcom = pd.read_csv('../../raw/tiktok/tiktok_inilahcom_abolisi.csv')\n",
    "df_tiktok_metrotv = pd.read_csv('../../raw/tiktok/tiktok_metrotv_abolisi.csv')\n"
   ]
  },
  {
   "cell_type": "markdown",
   "id": "999d17c1",
   "metadata": {},
   "source": [
    "## fb_e100"
   ]
  },
  {
   "cell_type": "code",
   "execution_count": 4,
   "id": "ac48efca",
   "metadata": {},
   "outputs": [
    {
     "data": {
      "text/html": [
       "<div>\n",
       "<style scoped>\n",
       "    .dataframe tbody tr th:only-of-type {\n",
       "        vertical-align: middle;\n",
       "    }\n",
       "\n",
       "    .dataframe tbody tr th {\n",
       "        vertical-align: top;\n",
       "    }\n",
       "\n",
       "    .dataframe thead th {\n",
       "        text-align: right;\n",
       "    }\n",
       "</style>\n",
       "<table border=\"1\" class=\"dataframe\">\n",
       "  <thead>\n",
       "    <tr style=\"text-align: right;\">\n",
       "      <th></th>\n",
       "      <th>Name</th>\n",
       "      <th>ProfileUrl</th>\n",
       "      <th>Avatar</th>\n",
       "      <th>Comment</th>\n",
       "      <th>Date</th>\n",
       "    </tr>\n",
       "  </thead>\n",
       "  <tbody>\n",
       "    <tr>\n",
       "      <th>0</th>\n",
       "      <td>Widyo Prassojo</td>\n",
       "      <td>https://www.facebook.com/dewiyismywife</td>\n",
       "      <td>https://scontent.fjog5-1.fna.fbcdn.net/v/t39.3...</td>\n",
       "      <td>Kusus untuk kasus Tom Lembong yang dikasih Abo...</td>\n",
       "      <td>2025-07-31 22:53:03</td>\n",
       "    </tr>\n",
       "    <tr>\n",
       "      <th>1</th>\n",
       "      <td>DejaVu Garage</td>\n",
       "      <td>https://www.facebook.com/dejavu.garage.2025</td>\n",
       "      <td>https://scontent.fjog5-1.fna.fbcdn.net/v/t39.3...</td>\n",
       "      <td>Kalo tom lebong menerima abolisi ini, berarti ...</td>\n",
       "      <td>2025-07-31 22:34:19</td>\n",
       "    </tr>\n",
       "    <tr>\n",
       "      <th>2</th>\n",
       "      <td>Raden Joko</td>\n",
       "      <td>https://www.facebook.com/allesandro.piero</td>\n",
       "      <td>https://scontent.fjog5-1.fna.fbcdn.net/v/t1.64...</td>\n",
       "      <td>Menjadi bukti bahwa kebijakan hukum di negara ...</td>\n",
       "      <td>2025-07-31 22:38:45</td>\n",
       "    </tr>\n",
       "  </tbody>\n",
       "</table>\n",
       "</div>"
      ],
      "text/plain": [
       "             Name                                   ProfileUrl  \\\n",
       "0  Widyo Prassojo       https://www.facebook.com/dewiyismywife   \n",
       "1   DejaVu Garage  https://www.facebook.com/dejavu.garage.2025   \n",
       "2      Raden Joko    https://www.facebook.com/allesandro.piero   \n",
       "\n",
       "                                              Avatar  \\\n",
       "0  https://scontent.fjog5-1.fna.fbcdn.net/v/t39.3...   \n",
       "1  https://scontent.fjog5-1.fna.fbcdn.net/v/t39.3...   \n",
       "2  https://scontent.fjog5-1.fna.fbcdn.net/v/t1.64...   \n",
       "\n",
       "                                             Comment                 Date  \n",
       "0  Kusus untuk kasus Tom Lembong yang dikasih Abo...  2025-07-31 22:53:03  \n",
       "1  Kalo tom lebong menerima abolisi ini, berarti ...  2025-07-31 22:34:19  \n",
       "2  Menjadi bukti bahwa kebijakan hukum di negara ...  2025-07-31 22:38:45  "
      ]
     },
     "execution_count": 4,
     "metadata": {},
     "output_type": "execute_result"
    }
   ],
   "source": [
    "df_fb_e100.head(3)"
   ]
  },
  {
   "cell_type": "code",
   "execution_count": 6,
   "id": "442b38b7",
   "metadata": {},
   "outputs": [],
   "source": [
    "# df_anies = df_anies.iloc[1:].reset_index(drop=True)\n",
    "# df_anies.head(3)"
   ]
  },
  {
   "cell_type": "code",
   "execution_count": 7,
   "id": "1f035b93",
   "metadata": {},
   "outputs": [
    {
     "data": {
      "text/html": [
       "<div>\n",
       "<style scoped>\n",
       "    .dataframe tbody tr th:only-of-type {\n",
       "        vertical-align: middle;\n",
       "    }\n",
       "\n",
       "    .dataframe tbody tr th {\n",
       "        vertical-align: top;\n",
       "    }\n",
       "\n",
       "    .dataframe thead th {\n",
       "        text-align: right;\n",
       "    }\n",
       "</style>\n",
       "<table border=\"1\" class=\"dataframe\">\n",
       "  <thead>\n",
       "    <tr style=\"text-align: right;\">\n",
       "      <th></th>\n",
       "      <th>text</th>\n",
       "    </tr>\n",
       "  </thead>\n",
       "  <tbody>\n",
       "    <tr>\n",
       "      <th>0</th>\n",
       "      <td>Kusus untuk kasus Tom Lembong yang dikasih Abo...</td>\n",
       "    </tr>\n",
       "    <tr>\n",
       "      <th>1</th>\n",
       "      <td>Kalo tom lebong menerima abolisi ini, berarti ...</td>\n",
       "    </tr>\n",
       "    <tr>\n",
       "      <th>2</th>\n",
       "      <td>Menjadi bukti bahwa kebijakan hukum di negara ...</td>\n",
       "    </tr>\n",
       "  </tbody>\n",
       "</table>\n",
       "</div>"
      ],
      "text/plain": [
       "                                                text\n",
       "0  Kusus untuk kasus Tom Lembong yang dikasih Abo...\n",
       "1  Kalo tom lebong menerima abolisi ini, berarti ...\n",
       "2  Menjadi bukti bahwa kebijakan hukum di negara ..."
      ]
     },
     "execution_count": 7,
     "metadata": {},
     "output_type": "execute_result"
    }
   ],
   "source": [
    "df_fb_e100 = df_fb_e100[['Comment']]\n",
    "#rename columns Comment to text\n",
    "df_fb_e100.rename(columns={'Comment': 'text'}, inplace=True)\n",
    "df_fb_e100.head(3)"
   ]
  },
  {
   "cell_type": "markdown",
   "id": "6386bcca",
   "metadata": {},
   "source": [
    "## fb_kompas"
   ]
  },
  {
   "cell_type": "code",
   "execution_count": null,
   "id": "d015a2dc",
   "metadata": {},
   "outputs": [
    {
     "data": {
      "text/html": [
       "<div>\n",
       "<style scoped>\n",
       "    .dataframe tbody tr th:only-of-type {\n",
       "        vertical-align: middle;\n",
       "    }\n",
       "\n",
       "    .dataframe tbody tr th {\n",
       "        vertical-align: top;\n",
       "    }\n",
       "\n",
       "    .dataframe thead th {\n",
       "        text-align: right;\n",
       "    }\n",
       "</style>\n",
       "<table border=\"1\" class=\"dataframe\">\n",
       "  <thead>\n",
       "    <tr style=\"text-align: right;\">\n",
       "      <th></th>\n",
       "      <th>text</th>\n",
       "    </tr>\n",
       "  </thead>\n",
       "  <tbody>\n",
       "    <tr>\n",
       "      <th>0</th>\n",
       "      <td>Untuk menutupi kesalahan si pemesan kasus maka...</td>\n",
       "    </tr>\n",
       "    <tr>\n",
       "      <th>1</th>\n",
       "      <td>Tom Lembong ngak perlu di ampuni karena dia ti...</td>\n",
       "    </tr>\n",
       "    <tr>\n",
       "      <th>2</th>\n",
       "      <td>Pak Presiden adalah negarawan... beliau tentu ...</td>\n",
       "    </tr>\n",
       "  </tbody>\n",
       "</table>\n",
       "</div>"
      ],
      "text/plain": [
       "                                                text\n",
       "0  Untuk menutupi kesalahan si pemesan kasus maka...\n",
       "1  Tom Lembong ngak perlu di ampuni karena dia ti...\n",
       "2  Pak Presiden adalah negarawan... beliau tentu ..."
      ]
     },
     "execution_count": 8,
     "metadata": {},
     "output_type": "execute_result"
    }
   ],
   "source": [
    "df_fb_kompas = df_fb_kompas.iloc[1:].reset_index(drop=True)\n",
    "df_fb_kompas = df_fb_kompas[['Comment']]\n",
    "df_fb_kompas.rename(columns={'Comment': 'text'}, inplace=True)\n",
    "df_fb_kompas.head(3)"
   ]
  },
  {
   "cell_type": "markdown",
   "id": "06b5d24f",
   "metadata": {},
   "source": [
    "## ig_creativox"
   ]
  },
  {
   "cell_type": "code",
   "execution_count": 10,
   "id": "8dd918af",
   "metadata": {},
   "outputs": [
    {
     "data": {
      "text/html": [
       "<div>\n",
       "<style scoped>\n",
       "    .dataframe tbody tr th:only-of-type {\n",
       "        vertical-align: middle;\n",
       "    }\n",
       "\n",
       "    .dataframe tbody tr th {\n",
       "        vertical-align: top;\n",
       "    }\n",
       "\n",
       "    .dataframe thead th {\n",
       "        text-align: right;\n",
       "    }\n",
       "</style>\n",
       "<table border=\"1\" class=\"dataframe\">\n",
       "  <thead>\n",
       "    <tr style=\"text-align: right;\">\n",
       "      <th></th>\n",
       "      <th>comment_id</th>\n",
       "      <th>created_at</th>\n",
       "      <th>profile_pic_url</th>\n",
       "      <th>text</th>\n",
       "      <th>user_id</th>\n",
       "      <th>username</th>\n",
       "    </tr>\n",
       "  </thead>\n",
       "  <tbody>\n",
       "    <tr>\n",
       "      <th>0</th>\n",
       "      <td>18516632320053283</td>\n",
       "      <td>1753981976</td>\n",
       "      <td>https://instagram.fjog5-1.fna.fbcdn.net/v/t51....</td>\n",
       "      <td>😂</td>\n",
       "      <td>47196609468</td>\n",
       "      <td>ddksr1</td>\n",
       "    </tr>\n",
       "    <tr>\n",
       "      <th>1</th>\n",
       "      <td>18086492935747440</td>\n",
       "      <td>1753982005</td>\n",
       "      <td>https://instagram.fjog5-1.fna.fbcdn.net/v/t51....</td>\n",
       "      <td>Di bebasin salah, ga dibebasin salah.</td>\n",
       "      <td>1946003270</td>\n",
       "      <td>diicky_mnoer</td>\n",
       "    </tr>\n",
       "    <tr>\n",
       "      <th>2</th>\n",
       "      <td>17858370987465619</td>\n",
       "      <td>1753982015</td>\n",
       "      <td>https://instagram.fjog5-1.fna.fbcdn.net/v/t51....</td>\n",
       "      <td>Abis itu ntar dbilang gatau diri gatau terimak...</td>\n",
       "      <td>878351227</td>\n",
       "      <td>litiar</td>\n",
       "    </tr>\n",
       "    <tr>\n",
       "      <th>3</th>\n",
       "      <td>18152658658379940</td>\n",
       "      <td>1753982019</td>\n",
       "      <td>https://instagram.fjog5-1.fna.fbcdn.net/v/t51....</td>\n",
       "      <td>@edoartjoel edo pintar sedikit kek</td>\n",
       "      <td>12281293249</td>\n",
       "      <td>ficcryyyy</td>\n",
       "    </tr>\n",
       "    <tr>\n",
       "      <th>4</th>\n",
       "      <td>17929468019965984</td>\n",
       "      <td>1753982054</td>\n",
       "      <td>https://instagram.fjog5-1.fna.fbcdn.net/v/t51....</td>\n",
       "      <td>yaudah terus maunya gimana? tetep lanjut sidang?</td>\n",
       "      <td>38589087214</td>\n",
       "      <td>sccaramouuche</td>\n",
       "    </tr>\n",
       "  </tbody>\n",
       "</table>\n",
       "</div>"
      ],
      "text/plain": [
       "          comment_id  created_at  \\\n",
       "0  18516632320053283  1753981976   \n",
       "1  18086492935747440  1753982005   \n",
       "2  17858370987465619  1753982015   \n",
       "3  18152658658379940  1753982019   \n",
       "4  17929468019965984  1753982054   \n",
       "\n",
       "                                     profile_pic_url  \\\n",
       "0  https://instagram.fjog5-1.fna.fbcdn.net/v/t51....   \n",
       "1  https://instagram.fjog5-1.fna.fbcdn.net/v/t51....   \n",
       "2  https://instagram.fjog5-1.fna.fbcdn.net/v/t51....   \n",
       "3  https://instagram.fjog5-1.fna.fbcdn.net/v/t51....   \n",
       "4  https://instagram.fjog5-1.fna.fbcdn.net/v/t51....   \n",
       "\n",
       "                                                text      user_id  \\\n",
       "0                                                  😂  47196609468   \n",
       "1              Di bebasin salah, ga dibebasin salah.   1946003270   \n",
       "2  Abis itu ntar dbilang gatau diri gatau terimak...    878351227   \n",
       "3                 @edoartjoel edo pintar sedikit kek  12281293249   \n",
       "4   yaudah terus maunya gimana? tetep lanjut sidang?  38589087214   \n",
       "\n",
       "        username  \n",
       "0         ddksr1  \n",
       "1   diicky_mnoer  \n",
       "2         litiar  \n",
       "3      ficcryyyy  \n",
       "4  sccaramouuche  "
      ]
     },
     "execution_count": 10,
     "metadata": {},
     "output_type": "execute_result"
    }
   ],
   "source": [
    "df_ig_creativox.head()"
   ]
  },
  {
   "cell_type": "code",
   "execution_count": 11,
   "id": "c32a6a35",
   "metadata": {},
   "outputs": [
    {
     "data": {
      "text/html": [
       "<div>\n",
       "<style scoped>\n",
       "    .dataframe tbody tr th:only-of-type {\n",
       "        vertical-align: middle;\n",
       "    }\n",
       "\n",
       "    .dataframe tbody tr th {\n",
       "        vertical-align: top;\n",
       "    }\n",
       "\n",
       "    .dataframe thead th {\n",
       "        text-align: right;\n",
       "    }\n",
       "</style>\n",
       "<table border=\"1\" class=\"dataframe\">\n",
       "  <thead>\n",
       "    <tr style=\"text-align: right;\">\n",
       "      <th></th>\n",
       "      <th>text</th>\n",
       "    </tr>\n",
       "  </thead>\n",
       "  <tbody>\n",
       "    <tr>\n",
       "      <th>0</th>\n",
       "      <td>😂</td>\n",
       "    </tr>\n",
       "    <tr>\n",
       "      <th>1</th>\n",
       "      <td>Di bebasin salah, ga dibebasin salah.</td>\n",
       "    </tr>\n",
       "    <tr>\n",
       "      <th>2</th>\n",
       "      <td>Abis itu ntar dbilang gatau diri gatau terimak...</td>\n",
       "    </tr>\n",
       "  </tbody>\n",
       "</table>\n",
       "</div>"
      ],
      "text/plain": [
       "                                                text\n",
       "0                                                  😂\n",
       "1              Di bebasin salah, ga dibebasin salah.\n",
       "2  Abis itu ntar dbilang gatau diri gatau terimak..."
      ]
     },
     "execution_count": 11,
     "metadata": {},
     "output_type": "execute_result"
    }
   ],
   "source": [
    "df_ig_creativox = df_ig_creativox[['text']]\n",
    "df_ig_creativox.head(3)"
   ]
  },
  {
   "cell_type": "markdown",
   "id": "5dabab63",
   "metadata": {},
   "source": [
    "## ig_folkative"
   ]
  },
  {
   "cell_type": "code",
   "execution_count": 12,
   "id": "14c8d422",
   "metadata": {},
   "outputs": [
    {
     "data": {
      "text/html": [
       "<div>\n",
       "<style scoped>\n",
       "    .dataframe tbody tr th:only-of-type {\n",
       "        vertical-align: middle;\n",
       "    }\n",
       "\n",
       "    .dataframe tbody tr th {\n",
       "        vertical-align: top;\n",
       "    }\n",
       "\n",
       "    .dataframe thead th {\n",
       "        text-align: right;\n",
       "    }\n",
       "</style>\n",
       "<table border=\"1\" class=\"dataframe\">\n",
       "  <thead>\n",
       "    <tr style=\"text-align: right;\">\n",
       "      <th></th>\n",
       "      <th>text</th>\n",
       "    </tr>\n",
       "  </thead>\n",
       "  <tbody>\n",
       "    <tr>\n",
       "      <th>0</th>\n",
       "      <td>Contoh SDM rendah ya anda</td>\n",
       "    </tr>\n",
       "    <tr>\n",
       "      <th>1</th>\n",
       "      <td>Pinter bgt pak cari moment wkwkwk</td>\n",
       "    </tr>\n",
       "    <tr>\n",
       "      <th>2</th>\n",
       "      <td>Fix kasus lembong n hasto itu politisasi</td>\n",
       "    </tr>\n",
       "    <tr>\n",
       "      <th>3</th>\n",
       "      <td>Ya emg ga salah wkwkw</td>\n",
       "    </tr>\n",
       "    <tr>\n",
       "      <th>4</th>\n",
       "      <td>nanti jadi politik balas budi</td>\n",
       "    </tr>\n",
       "  </tbody>\n",
       "</table>\n",
       "</div>"
      ],
      "text/plain": [
       "                                       text\n",
       "0                 Contoh SDM rendah ya anda\n",
       "1         Pinter bgt pak cari moment wkwkwk\n",
       "2  Fix kasus lembong n hasto itu politisasi\n",
       "3                     Ya emg ga salah wkwkw\n",
       "4             nanti jadi politik balas budi"
      ]
     },
     "execution_count": 12,
     "metadata": {},
     "output_type": "execute_result"
    }
   ],
   "source": [
    "df_ig_folkative = df_ig_folkative[['text']]\n",
    "df_ig_folkative.head()"
   ]
  },
  {
   "cell_type": "markdown",
   "id": "3ace7316",
   "metadata": {},
   "source": [
    "## ig_narasi"
   ]
  },
  {
   "cell_type": "code",
   "execution_count": 13,
   "id": "aaabf235",
   "metadata": {},
   "outputs": [
    {
     "data": {
      "text/html": [
       "<div>\n",
       "<style scoped>\n",
       "    .dataframe tbody tr th:only-of-type {\n",
       "        vertical-align: middle;\n",
       "    }\n",
       "\n",
       "    .dataframe tbody tr th {\n",
       "        vertical-align: top;\n",
       "    }\n",
       "\n",
       "    .dataframe thead th {\n",
       "        text-align: right;\n",
       "    }\n",
       "</style>\n",
       "<table border=\"1\" class=\"dataframe\">\n",
       "  <thead>\n",
       "    <tr style=\"text-align: right;\">\n",
       "      <th></th>\n",
       "      <th>text</th>\n",
       "    </tr>\n",
       "  </thead>\n",
       "  <tbody>\n",
       "    <tr>\n",
       "      <th>0</th>\n",
       "      <td>Sebenarnya tuh mau amnesti hasto doang, tapi y...</td>\n",
       "    </tr>\n",
       "    <tr>\n",
       "      <th>1</th>\n",
       "      <td>Udah berani ngelawan gue lu ya.\", kata Mr. You...</td>\n",
       "    </tr>\n",
       "    <tr>\n",
       "      <th>2</th>\n",
       "      <td>😂</td>\n",
       "    </tr>\n",
       "  </tbody>\n",
       "</table>\n",
       "</div>"
      ],
      "text/plain": [
       "                                                text\n",
       "0  Sebenarnya tuh mau amnesti hasto doang, tapi y...\n",
       "1  Udah berani ngelawan gue lu ya.\", kata Mr. You...\n",
       "2                                                  😂"
      ]
     },
     "execution_count": 13,
     "metadata": {},
     "output_type": "execute_result"
    }
   ],
   "source": [
    "df_ig_narasi = df_ig_narasi[['text']]\n",
    "df_ig_narasi.head(3)"
   ]
  },
  {
   "cell_type": "markdown",
   "id": "dbbdb96c",
   "metadata": {},
   "source": [
    "## tiktok_andromed"
   ]
  },
  {
   "cell_type": "code",
   "execution_count": 14,
   "id": "77f98a41",
   "metadata": {},
   "outputs": [
    {
     "data": {
      "text/html": [
       "<div>\n",
       "<style scoped>\n",
       "    .dataframe tbody tr th:only-of-type {\n",
       "        vertical-align: middle;\n",
       "    }\n",
       "\n",
       "    .dataframe tbody tr th {\n",
       "        vertical-align: top;\n",
       "    }\n",
       "\n",
       "    .dataframe thead th {\n",
       "        text-align: right;\n",
       "    }\n",
       "</style>\n",
       "<table border=\"1\" class=\"dataframe\">\n",
       "  <thead>\n",
       "    <tr style=\"text-align: right;\">\n",
       "      <th></th>\n",
       "      <th>videoWebUrl</th>\n",
       "      <th>submittedVideoUrl</th>\n",
       "      <th>input</th>\n",
       "      <th>cid</th>\n",
       "      <th>createTime</th>\n",
       "      <th>createTimeISO</th>\n",
       "      <th>text</th>\n",
       "      <th>diggCount</th>\n",
       "      <th>likedByAuthor</th>\n",
       "      <th>pinnedByAuthor</th>\n",
       "      <th>repliesToId</th>\n",
       "      <th>replyCommentTotal</th>\n",
       "      <th>uid</th>\n",
       "      <th>uniqueId</th>\n",
       "      <th>avatarThumbnail</th>\n",
       "      <th>mentions</th>\n",
       "      <th>detailedMentions</th>\n",
       "    </tr>\n",
       "  </thead>\n",
       "  <tbody>\n",
       "    <tr>\n",
       "      <th>0</th>\n",
       "      <td>https://www.tiktok.com/@andromeda_mercury/vide...</td>\n",
       "      <td>https://www.tiktok.com/@andromeda_mercury/vide...</td>\n",
       "      <td>https://www.tiktok.com/@andromeda_mercury/vide...</td>\n",
       "      <td>7533292603304592146</td>\n",
       "      <td>1753981372</td>\n",
       "      <td>2025-07-31T17:02:52.000Z</td>\n",
       "      <td>harga diri kejaksaan dan pengadilan dipermaluk...</td>\n",
       "      <td>108</td>\n",
       "      <td>False</td>\n",
       "      <td>False</td>\n",
       "      <td>NaN</td>\n",
       "      <td>6.0</td>\n",
       "      <td>6825555957264827393</td>\n",
       "      <td>ve7786</td>\n",
       "      <td>https://p16-common-sign-sg.tiktokcdn-us.com/to...</td>\n",
       "      <td>[]</td>\n",
       "      <td>[]</td>\n",
       "    </tr>\n",
       "    <tr>\n",
       "      <th>1</th>\n",
       "      <td>https://www.tiktok.com/@andromeda_mercury/vide...</td>\n",
       "      <td>https://www.tiktok.com/@andromeda_mercury/vide...</td>\n",
       "      <td>https://www.tiktok.com/@andromeda_mercury/vide...</td>\n",
       "      <td>7533269482887529234</td>\n",
       "      <td>1753975990</td>\n",
       "      <td>2025-07-31T15:33:10.000Z</td>\n",
       "      <td>puncak ketidak keadilan terlihat di kasus ini😭...</td>\n",
       "      <td>157</td>\n",
       "      <td>False</td>\n",
       "      <td>False</td>\n",
       "      <td>NaN</td>\n",
       "      <td>1.0</td>\n",
       "      <td>7401746042770932742</td>\n",
       "      <td>boss.feryy</td>\n",
       "      <td>https://p16-common-sign-sg.tiktokcdn-us.com/to...</td>\n",
       "      <td>[]</td>\n",
       "      <td>[]</td>\n",
       "    </tr>\n",
       "    <tr>\n",
       "      <th>2</th>\n",
       "      <td>https://www.tiktok.com/@andromeda_mercury/vide...</td>\n",
       "      <td>https://www.tiktok.com/@andromeda_mercury/vide...</td>\n",
       "      <td>https://www.tiktok.com/@andromeda_mercury/vide...</td>\n",
       "      <td>7533285796661625607</td>\n",
       "      <td>1753979787</td>\n",
       "      <td>2025-07-31T16:36:27.000Z</td>\n",
       "      <td>sudah di bilang kalo pemimpin udah bertindak b...</td>\n",
       "      <td>12</td>\n",
       "      <td>False</td>\n",
       "      <td>False</td>\n",
       "      <td>NaN</td>\n",
       "      <td>1.0</td>\n",
       "      <td>7063825827360211969</td>\n",
       "      <td>satriaaa299</td>\n",
       "      <td>https://p16-common-sign-va.tiktokcdn-us.com/mu...</td>\n",
       "      <td>[]</td>\n",
       "      <td>[]</td>\n",
       "    </tr>\n",
       "  </tbody>\n",
       "</table>\n",
       "</div>"
      ],
      "text/plain": [
       "                                         videoWebUrl  \\\n",
       "0  https://www.tiktok.com/@andromeda_mercury/vide...   \n",
       "1  https://www.tiktok.com/@andromeda_mercury/vide...   \n",
       "2  https://www.tiktok.com/@andromeda_mercury/vide...   \n",
       "\n",
       "                                   submittedVideoUrl  \\\n",
       "0  https://www.tiktok.com/@andromeda_mercury/vide...   \n",
       "1  https://www.tiktok.com/@andromeda_mercury/vide...   \n",
       "2  https://www.tiktok.com/@andromeda_mercury/vide...   \n",
       "\n",
       "                                               input                  cid  \\\n",
       "0  https://www.tiktok.com/@andromeda_mercury/vide...  7533292603304592146   \n",
       "1  https://www.tiktok.com/@andromeda_mercury/vide...  7533269482887529234   \n",
       "2  https://www.tiktok.com/@andromeda_mercury/vide...  7533285796661625607   \n",
       "\n",
       "   createTime             createTimeISO  \\\n",
       "0  1753981372  2025-07-31T17:02:52.000Z   \n",
       "1  1753975990  2025-07-31T15:33:10.000Z   \n",
       "2  1753979787  2025-07-31T16:36:27.000Z   \n",
       "\n",
       "                                                text  diggCount  \\\n",
       "0  harga diri kejaksaan dan pengadilan dipermaluk...        108   \n",
       "1  puncak ketidak keadilan terlihat di kasus ini😭...        157   \n",
       "2  sudah di bilang kalo pemimpin udah bertindak b...         12   \n",
       "\n",
       "   likedByAuthor pinnedByAuthor  repliesToId  replyCommentTotal  \\\n",
       "0          False          False          NaN                6.0   \n",
       "1          False          False          NaN                1.0   \n",
       "2          False          False          NaN                1.0   \n",
       "\n",
       "                   uid     uniqueId  \\\n",
       "0  6825555957264827393       ve7786   \n",
       "1  7401746042770932742   boss.feryy   \n",
       "2  7063825827360211969  satriaaa299   \n",
       "\n",
       "                                     avatarThumbnail mentions detailedMentions  \n",
       "0  https://p16-common-sign-sg.tiktokcdn-us.com/to...       []               []  \n",
       "1  https://p16-common-sign-sg.tiktokcdn-us.com/to...       []               []  \n",
       "2  https://p16-common-sign-va.tiktokcdn-us.com/mu...       []               []  "
      ]
     },
     "execution_count": 14,
     "metadata": {},
     "output_type": "execute_result"
    }
   ],
   "source": [
    "df_tiktok_andromeda.head(3)"
   ]
  },
  {
   "cell_type": "code",
   "execution_count": 15,
   "id": "ef83bc9d",
   "metadata": {},
   "outputs": [
    {
     "data": {
      "text/html": [
       "<div>\n",
       "<style scoped>\n",
       "    .dataframe tbody tr th:only-of-type {\n",
       "        vertical-align: middle;\n",
       "    }\n",
       "\n",
       "    .dataframe tbody tr th {\n",
       "        vertical-align: top;\n",
       "    }\n",
       "\n",
       "    .dataframe thead th {\n",
       "        text-align: right;\n",
       "    }\n",
       "</style>\n",
       "<table border=\"1\" class=\"dataframe\">\n",
       "  <thead>\n",
       "    <tr style=\"text-align: right;\">\n",
       "      <th></th>\n",
       "      <th>text</th>\n",
       "    </tr>\n",
       "  </thead>\n",
       "  <tbody>\n",
       "    <tr>\n",
       "      <th>0</th>\n",
       "      <td>harga diri kejaksaan dan pengadilan dipermaluk...</td>\n",
       "    </tr>\n",
       "    <tr>\n",
       "      <th>1</th>\n",
       "      <td>puncak ketidak keadilan terlihat di kasus ini😭...</td>\n",
       "    </tr>\n",
       "    <tr>\n",
       "      <th>2</th>\n",
       "      <td>sudah di bilang kalo pemimpin udah bertindak b...</td>\n",
       "    </tr>\n",
       "  </tbody>\n",
       "</table>\n",
       "</div>"
      ],
      "text/plain": [
       "                                                text\n",
       "0  harga diri kejaksaan dan pengadilan dipermaluk...\n",
       "1  puncak ketidak keadilan terlihat di kasus ini😭...\n",
       "2  sudah di bilang kalo pemimpin udah bertindak b..."
      ]
     },
     "execution_count": 15,
     "metadata": {},
     "output_type": "execute_result"
    }
   ],
   "source": [
    "df_tiktok_andromeda = df_tiktok_andromeda[['text']]\n",
    "df_tiktok_andromeda.head(3)"
   ]
  },
  {
   "cell_type": "markdown",
   "id": "094ddb8c",
   "metadata": {},
   "source": [
    "## inilahcom"
   ]
  },
  {
   "cell_type": "code",
   "execution_count": 16,
   "id": "10dc87e4",
   "metadata": {},
   "outputs": [
    {
     "data": {
      "text/html": [
       "<div>\n",
       "<style scoped>\n",
       "    .dataframe tbody tr th:only-of-type {\n",
       "        vertical-align: middle;\n",
       "    }\n",
       "\n",
       "    .dataframe tbody tr th {\n",
       "        vertical-align: top;\n",
       "    }\n",
       "\n",
       "    .dataframe thead th {\n",
       "        text-align: right;\n",
       "    }\n",
       "</style>\n",
       "<table border=\"1\" class=\"dataframe\">\n",
       "  <thead>\n",
       "    <tr style=\"text-align: right;\">\n",
       "      <th></th>\n",
       "      <th>text</th>\n",
       "    </tr>\n",
       "  </thead>\n",
       "  <tbody>\n",
       "    <tr>\n",
       "      <th>0</th>\n",
       "      <td>Pov:Sisa Saldo 300K Jadi 24Jt 🥰😜</td>\n",
       "    </tr>\n",
       "    <tr>\n",
       "      <th>1</th>\n",
       "      <td>ini baru negarawan yg dikenang sepanjang hayat...</td>\n",
       "    </tr>\n",
       "    <tr>\n",
       "      <th>2</th>\n",
       "      <td>Terlalu dengerin rakyat itu juga ga baik</td>\n",
       "    </tr>\n",
       "  </tbody>\n",
       "</table>\n",
       "</div>"
      ],
      "text/plain": [
       "                                                text\n",
       "0                   Pov:Sisa Saldo 300K Jadi 24Jt 🥰😜\n",
       "1  ini baru negarawan yg dikenang sepanjang hayat...\n",
       "2           Terlalu dengerin rakyat itu juga ga baik"
      ]
     },
     "execution_count": 16,
     "metadata": {},
     "output_type": "execute_result"
    }
   ],
   "source": [
    "df_tiktok_inilahcom = df_tiktok_inilahcom[['text']]\n",
    "df_tiktok_inilahcom.head(3)"
   ]
  },
  {
   "cell_type": "markdown",
   "id": "dc43c425",
   "metadata": {},
   "source": [
    "## tiktok metrotv"
   ]
  },
  {
   "cell_type": "code",
   "execution_count": 17,
   "id": "0fcb0ced",
   "metadata": {},
   "outputs": [
    {
     "data": {
      "text/html": [
       "<div>\n",
       "<style scoped>\n",
       "    .dataframe tbody tr th:only-of-type {\n",
       "        vertical-align: middle;\n",
       "    }\n",
       "\n",
       "    .dataframe tbody tr th {\n",
       "        vertical-align: top;\n",
       "    }\n",
       "\n",
       "    .dataframe thead th {\n",
       "        text-align: right;\n",
       "    }\n",
       "</style>\n",
       "<table border=\"1\" class=\"dataframe\">\n",
       "  <thead>\n",
       "    <tr style=\"text-align: right;\">\n",
       "      <th></th>\n",
       "      <th>text</th>\n",
       "    </tr>\n",
       "  </thead>\n",
       "  <tbody>\n",
       "    <tr>\n",
       "      <th>0</th>\n",
       "      <td>doyan banget main pahlawan2 an🤣🤭</td>\n",
       "    </tr>\n",
       "    <tr>\n",
       "      <th>1</th>\n",
       "      <td>Sang pahlawan mulai muncul.</td>\n",
       "    </tr>\n",
       "    <tr>\n",
       "      <th>2</th>\n",
       "      <td>raja solo sudah pensiun 😂</td>\n",
       "    </tr>\n",
       "  </tbody>\n",
       "</table>\n",
       "</div>"
      ],
      "text/plain": [
       "                               text\n",
       "0  doyan banget main pahlawan2 an🤣🤭\n",
       "1       Sang pahlawan mulai muncul.\n",
       "2         raja solo sudah pensiun 😂"
      ]
     },
     "execution_count": 17,
     "metadata": {},
     "output_type": "execute_result"
    }
   ],
   "source": [
    "df_tiktok_metrotv = df_tiktok_metrotv[['text']]\n",
    "df_tiktok_metrotv.head(3)"
   ]
  },
  {
   "cell_type": "markdown",
   "id": "f06cfe1b",
   "metadata": {},
   "source": [
    "# x_bosPurwa"
   ]
  },
  {
   "cell_type": "code",
   "execution_count": 30,
   "id": "c634d734",
   "metadata": {},
   "outputs": [
    {
     "data": {
      "text/html": [
       "<div>\n",
       "<style scoped>\n",
       "    .dataframe tbody tr th:only-of-type {\n",
       "        vertical-align: middle;\n",
       "    }\n",
       "\n",
       "    .dataframe tbody tr th {\n",
       "        vertical-align: top;\n",
       "    }\n",
       "\n",
       "    .dataframe thead th {\n",
       "        text-align: right;\n",
       "    }\n",
       "</style>\n",
       "<table border=\"1\" class=\"dataframe\">\n",
       "  <thead>\n",
       "    <tr style=\"text-align: right;\">\n",
       "      <th></th>\n",
       "      <th>Name</th>\n",
       "      <th>Handle</th>\n",
       "      <th>Timestamp</th>\n",
       "      <th>Verified</th>\n",
       "      <th>Content</th>\n",
       "      <th>Comments</th>\n",
       "      <th>Retweets</th>\n",
       "      <th>Likes</th>\n",
       "      <th>Analytics</th>\n",
       "      <th>Tags</th>\n",
       "      <th>Mentions</th>\n",
       "      <th>Emojis</th>\n",
       "      <th>Profile Image</th>\n",
       "      <th>Tweet Link</th>\n",
       "      <th>Tweet ID</th>\n",
       "    </tr>\n",
       "  </thead>\n",
       "  <tbody>\n",
       "    <tr>\n",
       "      <th>0</th>\n",
       "      <td>King Purwa</td>\n",
       "      <td>@BosPurwa</td>\n",
       "      <td>2025-07-31T15:37:59.000Z</td>\n",
       "      <td>True</td>\n",
       "      <td>NaN</td>\n",
       "      <td>0</td>\n",
       "      <td>0</td>\n",
       "      <td>0</td>\n",
       "      <td>2.7K</td>\n",
       "      <td>[]</td>\n",
       "      <td>[]</td>\n",
       "      <td>[]</td>\n",
       "      <td>https://pbs.twimg.com/profile_images/157281695...</td>\n",
       "      <td>https://x.com/BosPurwa/status/1950944037160317073</td>\n",
       "      <td>tweet_id:1950944037160317073</td>\n",
       "    </tr>\n",
       "    <tr>\n",
       "      <th>1</th>\n",
       "      <td>AHMAD KAMIL MALIK</td>\n",
       "      <td>@malix01</td>\n",
       "      <td>2025-07-31T15:52:59.000Z</td>\n",
       "      <td>False</td>\n",
       "      <td>Lah sama aja dengan setuju dengan putusan haki...</td>\n",
       "      <td>0</td>\n",
       "      <td>0</td>\n",
       "      <td>0</td>\n",
       "      <td>47</td>\n",
       "      <td>[]</td>\n",
       "      <td>[]</td>\n",
       "      <td>[]</td>\n",
       "      <td>https://pbs.twimg.com/profile_images/170510881...</td>\n",
       "      <td>https://x.com/malix01/status/1950947810955972977</td>\n",
       "      <td>tweet_id:1950947810955972977</td>\n",
       "    </tr>\n",
       "    <tr>\n",
       "      <th>2</th>\n",
       "      <td>seftian</td>\n",
       "      <td>@sefrtian</td>\n",
       "      <td>2025-07-31T14:54:01.000Z</td>\n",
       "      <td>False</td>\n",
       "      <td>NaN</td>\n",
       "      <td>0</td>\n",
       "      <td>0</td>\n",
       "      <td>0</td>\n",
       "      <td>6K</td>\n",
       "      <td>[]</td>\n",
       "      <td>[]</td>\n",
       "      <td>[]</td>\n",
       "      <td>https://pbs.twimg.com/profile_images/189144461...</td>\n",
       "      <td>https://x.com/sefrtian/status/1950932971898191896</td>\n",
       "      <td>tweet_id:1950932971898191896</td>\n",
       "    </tr>\n",
       "  </tbody>\n",
       "</table>\n",
       "</div>"
      ],
      "text/plain": [
       "                Name     Handle                 Timestamp  Verified  \\\n",
       "0         King Purwa  @BosPurwa  2025-07-31T15:37:59.000Z      True   \n",
       "1  AHMAD KAMIL MALIK   @malix01  2025-07-31T15:52:59.000Z     False   \n",
       "2            seftian  @sefrtian  2025-07-31T14:54:01.000Z     False   \n",
       "\n",
       "                                             Content  Comments  Retweets  \\\n",
       "0                                                NaN         0         0   \n",
       "1  Lah sama aja dengan setuju dengan putusan haki...         0         0   \n",
       "2                                                NaN         0         0   \n",
       "\n",
       "   Likes Analytics Tags Mentions Emojis  \\\n",
       "0      0      2.7K   []       []     []   \n",
       "1      0        47   []       []     []   \n",
       "2      0        6K   []       []     []   \n",
       "\n",
       "                                       Profile Image  \\\n",
       "0  https://pbs.twimg.com/profile_images/157281695...   \n",
       "1  https://pbs.twimg.com/profile_images/170510881...   \n",
       "2  https://pbs.twimg.com/profile_images/189144461...   \n",
       "\n",
       "                                          Tweet Link  \\\n",
       "0  https://x.com/BosPurwa/status/1950944037160317073   \n",
       "1   https://x.com/malix01/status/1950947810955972977   \n",
       "2  https://x.com/sefrtian/status/1950932971898191896   \n",
       "\n",
       "                       Tweet ID  \n",
       "0  tweet_id:1950944037160317073  \n",
       "1  tweet_id:1950947810955972977  \n",
       "2  tweet_id:1950932971898191896  "
      ]
     },
     "execution_count": 30,
     "metadata": {},
     "output_type": "execute_result"
    }
   ],
   "source": [
    "df_x_bosPurwa = pd.read_csv('../../raw/x/x_abolisi_bosPurwa.csv')\n",
    "df_x_bosPurwa.head(3)"
   ]
  },
  {
   "cell_type": "code",
   "execution_count": 31,
   "id": "4b221b44",
   "metadata": {},
   "outputs": [],
   "source": [
    "df_x_bosPurwa = df_x_bosPurwa[['Content']]\n",
    "df_x_bosPurwa = df_x_bosPurwa.rename(columns={'Content': 'text'})"
   ]
  },
  {
   "cell_type": "code",
   "execution_count": 32,
   "id": "6200b29e",
   "metadata": {},
   "outputs": [
    {
     "data": {
      "text/html": [
       "<div>\n",
       "<style scoped>\n",
       "    .dataframe tbody tr th:only-of-type {\n",
       "        vertical-align: middle;\n",
       "    }\n",
       "\n",
       "    .dataframe tbody tr th {\n",
       "        vertical-align: top;\n",
       "    }\n",
       "\n",
       "    .dataframe thead th {\n",
       "        text-align: right;\n",
       "    }\n",
       "</style>\n",
       "<table border=\"1\" class=\"dataframe\">\n",
       "  <thead>\n",
       "    <tr style=\"text-align: right;\">\n",
       "      <th></th>\n",
       "      <th>text</th>\n",
       "    </tr>\n",
       "  </thead>\n",
       "  <tbody>\n",
       "    <tr>\n",
       "      <th>0</th>\n",
       "      <td>NaN</td>\n",
       "    </tr>\n",
       "    <tr>\n",
       "      <th>1</th>\n",
       "      <td>Lah sama aja dengan setuju dengan putusan haki...</td>\n",
       "    </tr>\n",
       "    <tr>\n",
       "      <th>2</th>\n",
       "      <td>NaN</td>\n",
       "    </tr>\n",
       "    <tr>\n",
       "      <th>3</th>\n",
       "      <td>Matahin kaki orang, habis itu dikasih tongkat ...</td>\n",
       "    </tr>\n",
       "    <tr>\n",
       "      <th>4</th>\n",
       "      <td>NaN</td>\n",
       "    </tr>\n",
       "  </tbody>\n",
       "</table>\n",
       "</div>"
      ],
      "text/plain": [
       "                                                text\n",
       "0                                                NaN\n",
       "1  Lah sama aja dengan setuju dengan putusan haki...\n",
       "2                                                NaN\n",
       "3  Matahin kaki orang, habis itu dikasih tongkat ...\n",
       "4                                                NaN"
      ]
     },
     "execution_count": 32,
     "metadata": {},
     "output_type": "execute_result"
    }
   ],
   "source": [
    "df_x_bosPurwa.head()"
   ]
  },
  {
   "cell_type": "markdown",
   "id": "a63a3f71",
   "metadata": {},
   "source": [
    "# x_kumparan"
   ]
  },
  {
   "cell_type": "code",
   "execution_count": 33,
   "id": "990b8cd4",
   "metadata": {},
   "outputs": [
    {
     "data": {
      "text/html": [
       "<div>\n",
       "<style scoped>\n",
       "    .dataframe tbody tr th:only-of-type {\n",
       "        vertical-align: middle;\n",
       "    }\n",
       "\n",
       "    .dataframe tbody tr th {\n",
       "        vertical-align: top;\n",
       "    }\n",
       "\n",
       "    .dataframe thead th {\n",
       "        text-align: right;\n",
       "    }\n",
       "</style>\n",
       "<table border=\"1\" class=\"dataframe\">\n",
       "  <thead>\n",
       "    <tr style=\"text-align: right;\">\n",
       "      <th></th>\n",
       "      <th>Name</th>\n",
       "      <th>Handle</th>\n",
       "      <th>Timestamp</th>\n",
       "      <th>Verified</th>\n",
       "      <th>Content</th>\n",
       "      <th>Comments</th>\n",
       "      <th>Retweets</th>\n",
       "      <th>Likes</th>\n",
       "      <th>Analytics</th>\n",
       "      <th>Tags</th>\n",
       "      <th>Mentions</th>\n",
       "      <th>Emojis</th>\n",
       "      <th>Profile Image</th>\n",
       "      <th>Tweet Link</th>\n",
       "      <th>Tweet ID</th>\n",
       "    </tr>\n",
       "  </thead>\n",
       "  <tbody>\n",
       "    <tr>\n",
       "      <th>0</th>\n",
       "      <td>Dika Santosa</td>\n",
       "      <td>@dikasntsa</td>\n",
       "      <td>2025-07-31T16:21:04.000Z</td>\n",
       "      <td>False</td>\n",
       "      <td>Prabowo di mata pembenci:\\n1. Jika Prabowo ban...</td>\n",
       "      <td>0</td>\n",
       "      <td>0</td>\n",
       "      <td>0</td>\n",
       "      <td>196</td>\n",
       "      <td>[]</td>\n",
       "      <td>[]</td>\n",
       "      <td>[]</td>\n",
       "      <td>https://pbs.twimg.com/profile_images/194065229...</td>\n",
       "      <td>https://x.com/dikasntsa/status/195095487697410...</td>\n",
       "      <td>tweet_id:1950954876974100786</td>\n",
       "    </tr>\n",
       "    <tr>\n",
       "      <th>1</th>\n",
       "      <td>FreePalestine</td>\n",
       "      <td>@wahyu_djanti88</td>\n",
       "      <td>2025-07-31T15:14:17.000Z</td>\n",
       "      <td>False</td>\n",
       "      <td>Knp ga dr awal telp  &amp;  ??? Bukan inteevensi.....</td>\n",
       "      <td>0</td>\n",
       "      <td>0</td>\n",
       "      <td>0</td>\n",
       "      <td>328</td>\n",
       "      <td>[]</td>\n",
       "      <td>['@KejaksaanRI', '@kemenkum']</td>\n",
       "      <td>[]</td>\n",
       "      <td>https://pbs.twimg.com/profile_images/179583707...</td>\n",
       "      <td>https://x.com/wahyu_djanti88/status/1950938069...</td>\n",
       "      <td>tweet_id:1950938069278118067</td>\n",
       "    </tr>\n",
       "    <tr>\n",
       "      <th>2</th>\n",
       "      <td>Tukang Edit</td>\n",
       "      <td>@4wijaya_</td>\n",
       "      <td>2025-07-31T14:42:01.000Z</td>\n",
       "      <td>False</td>\n",
       "      <td>Akan gua anggep ini bentuk perlawanan thdp mul...</td>\n",
       "      <td>0</td>\n",
       "      <td>0</td>\n",
       "      <td>0</td>\n",
       "      <td>8.3K</td>\n",
       "      <td>[]</td>\n",
       "      <td>[]</td>\n",
       "      <td>[]</td>\n",
       "      <td>https://pbs.twimg.com/profile_images/186034991...</td>\n",
       "      <td>https://x.com/4wijaya_/status/1950929950435119571</td>\n",
       "      <td>tweet_id:1950929950435119571</td>\n",
       "    </tr>\n",
       "  </tbody>\n",
       "</table>\n",
       "</div>"
      ],
      "text/plain": [
       "            Name           Handle                 Timestamp  Verified  \\\n",
       "0   Dika Santosa       @dikasntsa  2025-07-31T16:21:04.000Z     False   \n",
       "1  FreePalestine  @wahyu_djanti88  2025-07-31T15:14:17.000Z     False   \n",
       "2    Tukang Edit        @4wijaya_  2025-07-31T14:42:01.000Z     False   \n",
       "\n",
       "                                             Content  Comments  Retweets  \\\n",
       "0  Prabowo di mata pembenci:\\n1. Jika Prabowo ban...         0         0   \n",
       "1  Knp ga dr awal telp  &  ??? Bukan inteevensi.....         0         0   \n",
       "2  Akan gua anggep ini bentuk perlawanan thdp mul...         0         0   \n",
       "\n",
       "   Likes Analytics Tags                       Mentions Emojis  \\\n",
       "0      0       196   []                             []     []   \n",
       "1      0       328   []  ['@KejaksaanRI', '@kemenkum']     []   \n",
       "2      0      8.3K   []                             []     []   \n",
       "\n",
       "                                       Profile Image  \\\n",
       "0  https://pbs.twimg.com/profile_images/194065229...   \n",
       "1  https://pbs.twimg.com/profile_images/179583707...   \n",
       "2  https://pbs.twimg.com/profile_images/186034991...   \n",
       "\n",
       "                                          Tweet Link  \\\n",
       "0  https://x.com/dikasntsa/status/195095487697410...   \n",
       "1  https://x.com/wahyu_djanti88/status/1950938069...   \n",
       "2  https://x.com/4wijaya_/status/1950929950435119571   \n",
       "\n",
       "                       Tweet ID  \n",
       "0  tweet_id:1950954876974100786  \n",
       "1  tweet_id:1950938069278118067  \n",
       "2  tweet_id:1950929950435119571  "
      ]
     },
     "execution_count": 33,
     "metadata": {},
     "output_type": "execute_result"
    }
   ],
   "source": [
    "df_x_kumparan = pd.read_csv('../../raw/x/x_abolisi_kumparan.csv')\n",
    "df_x_kumparan.head(3)"
   ]
  },
  {
   "cell_type": "code",
   "execution_count": 34,
   "id": "a13c0c8b",
   "metadata": {},
   "outputs": [
    {
     "data": {
      "text/html": [
       "<div>\n",
       "<style scoped>\n",
       "    .dataframe tbody tr th:only-of-type {\n",
       "        vertical-align: middle;\n",
       "    }\n",
       "\n",
       "    .dataframe tbody tr th {\n",
       "        vertical-align: top;\n",
       "    }\n",
       "\n",
       "    .dataframe thead th {\n",
       "        text-align: right;\n",
       "    }\n",
       "</style>\n",
       "<table border=\"1\" class=\"dataframe\">\n",
       "  <thead>\n",
       "    <tr style=\"text-align: right;\">\n",
       "      <th></th>\n",
       "      <th>text</th>\n",
       "    </tr>\n",
       "  </thead>\n",
       "  <tbody>\n",
       "    <tr>\n",
       "      <th>0</th>\n",
       "      <td>Prabowo di mata pembenci:\\n1. Jika Prabowo ban...</td>\n",
       "    </tr>\n",
       "    <tr>\n",
       "      <th>1</th>\n",
       "      <td>Knp ga dr awal telp  &amp;  ??? Bukan inteevensi.....</td>\n",
       "    </tr>\n",
       "    <tr>\n",
       "      <th>2</th>\n",
       "      <td>Akan gua anggep ini bentuk perlawanan thdp mul...</td>\n",
       "    </tr>\n",
       "  </tbody>\n",
       "</table>\n",
       "</div>"
      ],
      "text/plain": [
       "                                                text\n",
       "0  Prabowo di mata pembenci:\\n1. Jika Prabowo ban...\n",
       "1  Knp ga dr awal telp  &  ??? Bukan inteevensi.....\n",
       "2  Akan gua anggep ini bentuk perlawanan thdp mul..."
      ]
     },
     "execution_count": 34,
     "metadata": {},
     "output_type": "execute_result"
    }
   ],
   "source": [
    "df_x_kumparan = df_x_kumparan[['Content']]\n",
    "df_x_kumparan = df_x_kumparan.rename(columns={'Content': 'text'})\n",
    "df_x_kumparan.head(3)"
   ]
  },
  {
   "cell_type": "markdown",
   "id": "52b26086",
   "metadata": {},
   "source": [
    "# Concat all"
   ]
  },
  {
   "cell_type": "code",
   "execution_count": 35,
   "id": "62dd0928",
   "metadata": {},
   "outputs": [
    {
     "name": "stdout",
     "output_type": "stream",
     "text": [
      "Jumlah baris df: 4060\n"
     ]
    }
   ],
   "source": [
    "df = pd.concat([df_fb_e100,df_fb_kompas, df_ig_creativox, df_ig_folkative, df_ig_narasi, df_tiktok_andromeda, df_tiktok_inilahcom,df_tiktok_metrotv, df_x_bosPurwa, df_x_kumparan], ignore_index=True)\n",
    "# melihat banyak baris \n",
    "print(f'Jumlah baris df: {df.shape[0]}')"
   ]
  },
  {
   "cell_type": "code",
   "execution_count": 36,
   "id": "b069a3ca",
   "metadata": {},
   "outputs": [
    {
     "data": {
      "text/html": [
       "<div>\n",
       "<style scoped>\n",
       "    .dataframe tbody tr th:only-of-type {\n",
       "        vertical-align: middle;\n",
       "    }\n",
       "\n",
       "    .dataframe tbody tr th {\n",
       "        vertical-align: top;\n",
       "    }\n",
       "\n",
       "    .dataframe thead th {\n",
       "        text-align: right;\n",
       "    }\n",
       "</style>\n",
       "<table border=\"1\" class=\"dataframe\">\n",
       "  <thead>\n",
       "    <tr style=\"text-align: right;\">\n",
       "      <th></th>\n",
       "      <th>text</th>\n",
       "    </tr>\n",
       "  </thead>\n",
       "  <tbody>\n",
       "    <tr>\n",
       "      <th>0</th>\n",
       "      <td>Kusus untuk kasus Tom Lembong yang dikasih Abo...</td>\n",
       "    </tr>\n",
       "    <tr>\n",
       "      <th>1</th>\n",
       "      <td>Kalo tom lebong menerima abolisi ini, berarti ...</td>\n",
       "    </tr>\n",
       "    <tr>\n",
       "      <th>2</th>\n",
       "      <td>Menjadi bukti bahwa kebijakan hukum di negara ...</td>\n",
       "    </tr>\n",
       "    <tr>\n",
       "      <th>3</th>\n",
       "      <td>Karuan bebasne AE pak..kok pegel2 sidang seng ...</td>\n",
       "    </tr>\n",
       "    <tr>\n",
       "      <th>4</th>\n",
       "      <td>RUWET KAREPE DEWE KAKEAN DRAMA KOYOK JOKOWI, S...</td>\n",
       "    </tr>\n",
       "  </tbody>\n",
       "</table>\n",
       "</div>"
      ],
      "text/plain": [
       "                                                text\n",
       "0  Kusus untuk kasus Tom Lembong yang dikasih Abo...\n",
       "1  Kalo tom lebong menerima abolisi ini, berarti ...\n",
       "2  Menjadi bukti bahwa kebijakan hukum di negara ...\n",
       "3  Karuan bebasne AE pak..kok pegel2 sidang seng ...\n",
       "4  RUWET KAREPE DEWE KAKEAN DRAMA KOYOK JOKOWI, S..."
      ]
     },
     "execution_count": 36,
     "metadata": {},
     "output_type": "execute_result"
    }
   ],
   "source": [
    "df.head()"
   ]
  },
  {
   "cell_type": "code",
   "execution_count": 37,
   "id": "0f9811f1",
   "metadata": {},
   "outputs": [],
   "source": [
    "df = df.dropna(subset=['text'])\n"
   ]
  },
  {
   "cell_type": "code",
   "execution_count": 38,
   "id": "277b841f",
   "metadata": {},
   "outputs": [
    {
     "data": {
      "text/plain": [
       "3962"
      ]
     },
     "execution_count": 38,
     "metadata": {},
     "output_type": "execute_result"
    }
   ],
   "source": [
    "df.shape[0]"
   ]
  },
  {
   "cell_type": "code",
   "execution_count": 39,
   "id": "0dfb7d89",
   "metadata": {},
   "outputs": [],
   "source": [
    "import os\n",
    "os.makedirs('../../processed', exist_ok=True)\n",
    "df.to_csv('../../processed/concat_data.csv', index=False)"
   ]
  }
 ],
 "metadata": {
  "kernelspec": {
   "display_name": "base",
   "language": "python",
   "name": "python3"
  },
  "language_info": {
   "codemirror_mode": {
    "name": "ipython",
    "version": 3
   },
   "file_extension": ".py",
   "mimetype": "text/x-python",
   "name": "python",
   "nbconvert_exporter": "python",
   "pygments_lexer": "ipython3",
   "version": "3.12.3"
  }
 },
 "nbformat": 4,
 "nbformat_minor": 5
}
