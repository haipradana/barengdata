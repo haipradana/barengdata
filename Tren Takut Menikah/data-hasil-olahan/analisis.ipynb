{
 "cells": [
  {
   "cell_type": "code",
   "execution_count": 1,
   "id": "f135a160",
   "metadata": {},
   "outputs": [],
   "source": [
    "import matplotlib.pyplot as plt\n",
    "import pandas as pd"
   ]
  },
  {
   "cell_type": "code",
   "execution_count": 2,
   "id": "0fc8c336",
   "metadata": {},
   "outputs": [],
   "source": [
    "df_nlp = pd.read_csv('combined_data_with_nlp.csv')\n",
    "df_topic = pd.read_csv('combined_data_zero_shot.csv')"
   ]
  },
  {
   "cell_type": "code",
   "execution_count": 3,
   "id": "caf41a3c",
   "metadata": {},
   "outputs": [
    {
     "data": {
      "text/html": [
       "<div>\n",
       "<style scoped>\n",
       "    .dataframe tbody tr th:only-of-type {\n",
       "        vertical-align: middle;\n",
       "    }\n",
       "\n",
       "    .dataframe tbody tr th {\n",
       "        vertical-align: top;\n",
       "    }\n",
       "\n",
       "    .dataframe thead th {\n",
       "        text-align: right;\n",
       "    }\n",
       "</style>\n",
       "<table border=\"1\" class=\"dataframe\">\n",
       "  <thead>\n",
       "    <tr style=\"text-align: right;\">\n",
       "      <th></th>\n",
       "      <th>text</th>\n",
       "      <th>sentiment</th>\n",
       "      <th>emotion</th>\n",
       "      <th>is_satire</th>\n",
       "    </tr>\n",
       "  </thead>\n",
       "  <tbody>\n",
       "    <tr>\n",
       "      <th>0</th>\n",
       "      <td>blm resmi jd mantan tapi udah ngasih trauma te...</td>\n",
       "      <td>negative</td>\n",
       "      <td>sadness</td>\n",
       "      <td>False</td>\n",
       "    </tr>\n",
       "    <tr>\n",
       "      <th>1</th>\n",
       "      <td>papahku ditinggal meninggal gamau nikah lagi</td>\n",
       "      <td>negative</td>\n",
       "      <td>sadness</td>\n",
       "      <td>False</td>\n",
       "    </tr>\n",
       "    <tr>\n",
       "      <th>2</th>\n",
       "      <td>kecuali bapakku dia kok disuruh nikah lagi gam...</td>\n",
       "      <td>negative</td>\n",
       "      <td>sadness</td>\n",
       "      <td>False</td>\n",
       "    </tr>\n",
       "    <tr>\n",
       "      <th>3</th>\n",
       "      <td>atasan gw dah cepet nikah gih biar ga stress a...</td>\n",
       "      <td>negative</td>\n",
       "      <td>anger</td>\n",
       "      <td>False</td>\n",
       "    </tr>\n",
       "    <tr>\n",
       "      <th>4</th>\n",
       "      <td>gamau blajar maunya nikah aja ya gigi</td>\n",
       "      <td>negative</td>\n",
       "      <td>sadness</td>\n",
       "      <td>False</td>\n",
       "    </tr>\n",
       "  </tbody>\n",
       "</table>\n",
       "</div>"
      ],
      "text/plain": [
       "                                                text sentiment  emotion  \\\n",
       "0  blm resmi jd mantan tapi udah ngasih trauma te...  negative  sadness   \n",
       "1       papahku ditinggal meninggal gamau nikah lagi  negative  sadness   \n",
       "2  kecuali bapakku dia kok disuruh nikah lagi gam...  negative  sadness   \n",
       "3  atasan gw dah cepet nikah gih biar ga stress a...  negative    anger   \n",
       "4              gamau blajar maunya nikah aja ya gigi  negative  sadness   \n",
       "\n",
       "   is_satire  \n",
       "0      False  \n",
       "1      False  \n",
       "2      False  \n",
       "3      False  \n",
       "4      False  "
      ]
     },
     "execution_count": 3,
     "metadata": {},
     "output_type": "execute_result"
    }
   ],
   "source": [
    "df_nlp.head()"
   ]
  },
  {
   "cell_type": "code",
   "execution_count": 4,
   "id": "f4dbc584",
   "metadata": {},
   "outputs": [
    {
     "data": {
      "text/html": [
       "<div>\n",
       "<style scoped>\n",
       "    .dataframe tbody tr th:only-of-type {\n",
       "        vertical-align: middle;\n",
       "    }\n",
       "\n",
       "    .dataframe tbody tr th {\n",
       "        vertical-align: top;\n",
       "    }\n",
       "\n",
       "    .dataframe thead th {\n",
       "        text-align: right;\n",
       "    }\n",
       "</style>\n",
       "<table border=\"1\" class=\"dataframe\">\n",
       "  <thead>\n",
       "    <tr style=\"text-align: right;\">\n",
       "      <th></th>\n",
       "      <th>text</th>\n",
       "      <th>predicted_label</th>\n",
       "    </tr>\n",
       "  </thead>\n",
       "  <tbody>\n",
       "    <tr>\n",
       "      <th>0</th>\n",
       "      <td>blm resmi jadi mantan ngasih trauma sangat bes...</td>\n",
       "      <td>trauma masa lalu</td>\n",
       "    </tr>\n",
       "    <tr>\n",
       "      <th>1</th>\n",
       "      <td>papah tingal gamau nikah</td>\n",
       "      <td>tekanan sosial</td>\n",
       "    </tr>\n",
       "    <tr>\n",
       "      <th>2</th>\n",
       "      <td>bapak suruh nikah gamau terus</td>\n",
       "      <td>tekanan sosial</td>\n",
       "    </tr>\n",
       "    <tr>\n",
       "      <th>3</th>\n",
       "      <td>atas cepet nikah gih stres nafkahin gamau nika...</td>\n",
       "      <td>tekanan sosial</td>\n",
       "    </tr>\n",
       "    <tr>\n",
       "      <th>4</th>\n",
       "      <td>gamau ajar mau nikah gigi</td>\n",
       "      <td>tekanan sosial</td>\n",
       "    </tr>\n",
       "  </tbody>\n",
       "</table>\n",
       "</div>"
      ],
      "text/plain": [
       "                                                text   predicted_label\n",
       "0  blm resmi jadi mantan ngasih trauma sangat bes...  trauma masa lalu\n",
       "1                           papah tingal gamau nikah    tekanan sosial\n",
       "2                      bapak suruh nikah gamau terus    tekanan sosial\n",
       "3  atas cepet nikah gih stres nafkahin gamau nika...    tekanan sosial\n",
       "4                          gamau ajar mau nikah gigi    tekanan sosial"
      ]
     },
     "execution_count": 4,
     "metadata": {},
     "output_type": "execute_result"
    }
   ],
   "source": [
    "df_topic.head()"
   ]
  },
  {
   "cell_type": "markdown",
   "id": "a8e19300",
   "metadata": {},
   "source": [
    "# Visualisasi"
   ]
  },
  {
   "cell_type": "markdown",
   "id": "c2510616",
   "metadata": {},
   "source": [
    "## Sentiment"
   ]
  },
  {
   "cell_type": "code",
   "execution_count": 8,
   "id": "28f88f04",
   "metadata": {},
   "outputs": [
    {
     "data": {
      "text/plain": [
       "sentiment\n",
       "negative    84.153846\n",
       "positive    11.538462\n",
       "neutral      4.307692\n",
       "Name: proportion, dtype: float64"
      ]
     },
     "execution_count": 8,
     "metadata": {},
     "output_type": "execute_result"
    }
   ],
   "source": [
    "df_nlp['sentiment'].value_counts(normalize=True) * 100"
   ]
  },
  {
   "cell_type": "code",
   "execution_count": 15,
   "id": "dc15659d",
   "metadata": {},
   "outputs": [
    {
     "data": {
      "text/plain": [
       "(array([0, 1, 2]),\n",
       " [Text(0, 0, 'negative'), Text(1, 0, 'positive'), Text(2, 0, 'neutral')])"
      ]
     },
     "execution_count": 15,
     "metadata": {},
     "output_type": "execute_result"
    },
    {
     "data": {
      "image/png": "[encoded data removed]",
      "text/plain": [
       "<Figure size 640x480 with 1 Axes>"
      ]
     },
     "metadata": {},
     "output_type": "display_data"
    }
   ],
   "source": [
    "df_nlp['sentiment'].value_counts().plot(kind='bar', color=['darkblue', 'royalblue', 'darkgray'])\n",
    "plt.title(\"Sentiment Distribution\")\n",
    "plt.xlabel(\"Sentimen\")\n",
    "plt.ylabel(\"Jumlah\")\n",
    "plt.xticks(rotation=45)"
   ]
  },
  {
   "cell_type": "code",
   "execution_count": 32,
   "id": "4ebf5627",
   "metadata": {},
   "outputs": [
    {
     "data": {
      "image/png": "[encoded data removed]",
      "text/plain": [
       "<Figure size 600x600 with 1 Axes>"
      ]
     },
     "metadata": {},
     "output_type": "display_data"
    }
   ],
   "source": [
    "import matplotlib.pyplot as plt\n",
    "import pandas as pd\n",
    "\n",
    "# Contoh data (ganti dengan data kamu sendiri)\n",
    "sentiment_counts = pd.Series({\n",
    "    'Positif': 11.54,\n",
    "    'Netral': 4.31,\n",
    "    'Negatif': 84.15\n",
    "})\n",
    "\n",
    "# Warna disesuaikan\n",
    "colors = [\n",
    "    '#3498db',  # Biru untuk Positif\n",
    "    \"#ABABAB\",  # Abu-abu untuk Netral\n",
    "    \"#0038a0\"   # Merah untuk Negatif\n",
    "]\n",
    "\n",
    "# Plot donut chart\n",
    "fig, ax = plt.subplots(figsize=(6, 6))\n",
    "wedges, texts = ax.pie(\n",
    "    sentiment_counts,\n",
    "    labels=sentiment_counts.index,\n",
    "    # autopct='%1.1f%%',\n",
    "    startangle=90,\n",
    "    colors=colors,\n",
    "    textprops=dict(color=\"black\")\n",
    ")\n",
    "\n",
    "# Buat lubang di tengah agar menjadi donut\n",
    "centre_circle = plt.Circle((0, 0), 0.57, fc='white')\n",
    "fig.gca().add_artist(centre_circle)\n",
    "\n",
    "# Judul dan layout\n",
    "plt.title(\"Distribusi Sentimen Netizen pada Tren Takut Nikah\")\n",
    "plt.tight_layout()\n",
    "plt.show()\n"
   ]
  },
  {
   "cell_type": "markdown",
   "id": "5f2a86da",
   "metadata": {},
   "source": [
    "## Emosi"
   ]
  },
  {
   "cell_type": "code",
   "execution_count": 34,
   "id": "00388b69",
   "metadata": {},
   "outputs": [
    {
     "data": {
      "text/plain": [
       "emotion\n",
       "fear       421\n",
       "sadness    135\n",
       "anger       57\n",
       "happy       33\n",
       "love         4\n",
       "Name: count, dtype: int64"
      ]
     },
     "execution_count": 34,
     "metadata": {},
     "output_type": "execute_result"
    }
   ],
   "source": [
    "df_nlp['emotion'].value_counts()"
   ]
  },
  {
   "cell_type": "code",
   "execution_count": 35,
   "id": "e0030236",
   "metadata": {},
   "outputs": [
    {
     "data": {
      "text/plain": [
       "emotion\n",
       "fear       64.769231\n",
       "sadness    20.769231\n",
       "anger       8.769231\n",
       "happy       5.076923\n",
       "love        0.615385\n",
       "Name: proportion, dtype: float64"
      ]
     },
     "execution_count": 35,
     "metadata": {},
     "output_type": "execute_result"
    }
   ],
   "source": [
    "df_nlp['emotion'].value_counts(normalize=True) * 100"
   ]
  },
  {
   "cell_type": "code",
   "execution_count": 37,
   "id": "bf7fdb89",
   "metadata": {},
   "outputs": [
    {
     "data": {
      "image/png": "[encoded data removed]",
      "text/plain": [
       "<Figure size 800x500 with 1 Axes>"
      ]
     },
     "metadata": {},
     "output_type": "display_data"
    }
   ],
   "source": [
    "# Mapping label emosi ke Bahasa Indonesia\n",
    "emotion_map = {\n",
    "    'fear': 'Takut',\n",
    "    'sadness': 'Sedih',\n",
    "    'anger': 'Marah',\n",
    "    'happy': 'Bahagia',\n",
    "    'love': 'Cinta'\n",
    "}\n",
    "\n",
    "# Hitung jumlah emosi dan urutkan sesuai urutan di atas\n",
    "emotion_counts = df_nlp['emotion'].map(emotion_map).value_counts().reindex(['Takut', 'Sedih', 'Marah', 'Bahagia', 'Cinta'])\n",
    "\n",
    "# Plot dengan tampilan lebih menarik\n",
    "plt.figure(figsize=(8,5))\n",
    "bars = plt.bar(emotion_counts.index, emotion_counts.values, color=['#f39c12', '#3498db', '#e74c3c', '#2ecc71', '#9b59b6'])\n",
    "plt.title(\"Distribusi Emosi Netizen terhadap Pernikahan\", fontsize=14, fontweight='bold')\n",
    "plt.xlabel(\"Emosi\", fontsize=12)\n",
    "plt.ylabel(\"Jumlah\", fontsize=12)\n",
    "plt.xticks(fontsize=11)\n",
    "plt.yticks(fontsize=11)\n",
    "\n",
    "# Tambahkan angka di atas bar\n",
    "for bar in bars:\n",
    "    plt.text(bar.get_x() + bar.get_width()/2, bar.get_height(), int(bar.get_height()), \n",
    "             ha='center', va='bottom', fontsize=11, fontweight='bold')\n",
    "\n",
    "plt.tight_layout()\n",
    "plt.show()"
   ]
  },
  {
   "cell_type": "markdown",
   "id": "a23ddab6",
   "metadata": {},
   "source": [
    "## Zero shot alasan"
   ]
  },
  {
   "cell_type": "code",
   "execution_count": 41,
   "id": "35ec08c4",
   "metadata": {},
   "outputs": [
    {
     "data": {
      "text/plain": [
       "predicted_label\n",
       "tekanan sosial                    290\n",
       "trauma masa lalu                  273\n",
       "tidak percaya pasangan             50\n",
       "takut gagal membangun keluarga     25\n",
       "alasan ekonomi                     12\n",
       "Name: count, dtype: int64"
      ]
     },
     "execution_count": 41,
     "metadata": {},
     "output_type": "execute_result"
    }
   ],
   "source": [
    "df_topic['predicted_label'].value_counts()"
   ]
  },
  {
   "cell_type": "code",
   "execution_count": 40,
   "id": "cd422835",
   "metadata": {},
   "outputs": [
    {
     "data": {
      "text/plain": [
       "Text(0, 0.5, 'Jumlah Tweet')"
      ]
     },
     "execution_count": 40,
     "metadata": {},
     "output_type": "execute_result"
    },
    {
     "data": {
      "image/png": "[encoded data removed]",
      "text/plain": [
       "<Figure size 640x480 with 1 Axes>"
      ]
     },
     "metadata": {},
     "output_type": "display_data"
    }
   ],
   "source": [
    "df_topic['predicted_label'].value_counts().head(5).plot(kind='bar', color='orange')\n",
    "plt.title(\"Top Alasan Takut Menikah (Zero-Shot)\")\n",
    "plt.xlabel(\"Alasan\")\n",
    "plt.ylabel(\"Jumlah Tweet\")"
   ]
  },
  {
   "cell_type": "code",
   "execution_count": 42,
   "id": "af121dc3",
   "metadata": {},
   "outputs": [
    {
     "name": "stdout",
     "output_type": "stream",
     "text": [
      "Contoh untuk label: trauma masa lalu\n"
     ]
    },
    {
     "data": {
      "text/html": [
       "<div>\n",
       "<style scoped>\n",
       "    .dataframe tbody tr th:only-of-type {\n",
       "        vertical-align: middle;\n",
       "    }\n",
       "\n",
       "    .dataframe tbody tr th {\n",
       "        vertical-align: top;\n",
       "    }\n",
       "\n",
       "    .dataframe thead th {\n",
       "        text-align: right;\n",
       "    }\n",
       "</style>\n",
       "<table border=\"1\" class=\"dataframe\">\n",
       "  <thead>\n",
       "    <tr style=\"text-align: right;\">\n",
       "      <th></th>\n",
       "      <th>text</th>\n",
       "      <th>predicted_label</th>\n",
       "    </tr>\n",
       "  </thead>\n",
       "  <tbody>\n",
       "    <tr>\n",
       "      <th>0</th>\n",
       "      <td>blm resmi jadi mantan ngasih trauma sangat bes...</td>\n",
       "      <td>trauma masa lalu</td>\n",
       "    </tr>\n",
       "    <tr>\n",
       "      <th>7</th>\n",
       "      <td>blm resmi jadi mantan ngasih trauma sangat bes...</td>\n",
       "      <td>trauma masa lalu</td>\n",
       "    </tr>\n",
       "    <tr>\n",
       "      <th>46</th>\n",
       "      <td>perempuan skrg gamau nikah banyak nikah kali t...</td>\n",
       "      <td>trauma masa lalu</td>\n",
       "    </tr>\n",
       "  </tbody>\n",
       "</table>\n",
       "</div>"
      ],
      "text/plain": [
       "                                                 text   predicted_label\n",
       "0   blm resmi jadi mantan ngasih trauma sangat bes...  trauma masa lalu\n",
       "7   blm resmi jadi mantan ngasih trauma sangat bes...  trauma masa lalu\n",
       "46  perempuan skrg gamau nikah banyak nikah kali t...  trauma masa lalu"
      ]
     },
     "metadata": {},
     "output_type": "display_data"
    },
    {
     "name": "stdout",
     "output_type": "stream",
     "text": [
      "----------------------------------------\n",
      "Contoh untuk label: tekanan sosial\n"
     ]
    },
    {
     "data": {
      "text/html": [
       "<div>\n",
       "<style scoped>\n",
       "    .dataframe tbody tr th:only-of-type {\n",
       "        vertical-align: middle;\n",
       "    }\n",
       "\n",
       "    .dataframe tbody tr th {\n",
       "        vertical-align: top;\n",
       "    }\n",
       "\n",
       "    .dataframe thead th {\n",
       "        text-align: right;\n",
       "    }\n",
       "</style>\n",
       "<table border=\"1\" class=\"dataframe\">\n",
       "  <thead>\n",
       "    <tr style=\"text-align: right;\">\n",
       "      <th></th>\n",
       "      <th>text</th>\n",
       "      <th>predicted_label</th>\n",
       "    </tr>\n",
       "  </thead>\n",
       "  <tbody>\n",
       "    <tr>\n",
       "      <th>1</th>\n",
       "      <td>papah tingal gamau nikah</td>\n",
       "      <td>tekanan sosial</td>\n",
       "    </tr>\n",
       "    <tr>\n",
       "      <th>2</th>\n",
       "      <td>bapak suruh nikah gamau terus</td>\n",
       "      <td>tekanan sosial</td>\n",
       "    </tr>\n",
       "    <tr>\n",
       "      <th>3</th>\n",
       "      <td>atas cepet nikah gih stres nafkahin gamau nika...</td>\n",
       "      <td>tekanan sosial</td>\n",
       "    </tr>\n",
       "  </tbody>\n",
       "</table>\n",
       "</div>"
      ],
      "text/plain": [
       "                                                text predicted_label\n",
       "1                           papah tingal gamau nikah  tekanan sosial\n",
       "2                      bapak suruh nikah gamau terus  tekanan sosial\n",
       "3  atas cepet nikah gih stres nafkahin gamau nika...  tekanan sosial"
      ]
     },
     "metadata": {},
     "output_type": "display_data"
    },
    {
     "name": "stdout",
     "output_type": "stream",
     "text": [
      "----------------------------------------\n",
      "Contoh untuk label: tidak percaya pasangan\n"
     ]
    },
    {
     "data": {
      "text/html": [
       "<div>\n",
       "<style scoped>\n",
       "    .dataframe tbody tr th:only-of-type {\n",
       "        vertical-align: middle;\n",
       "    }\n",
       "\n",
       "    .dataframe tbody tr th {\n",
       "        vertical-align: top;\n",
       "    }\n",
       "\n",
       "    .dataframe thead th {\n",
       "        text-align: right;\n",
       "    }\n",
       "</style>\n",
       "<table border=\"1\" class=\"dataframe\">\n",
       "  <thead>\n",
       "    <tr style=\"text-align: right;\">\n",
       "      <th></th>\n",
       "      <th>text</th>\n",
       "      <th>predicted_label</th>\n",
       "    </tr>\n",
       "  </thead>\n",
       "  <tbody>\n",
       "    <tr>\n",
       "      <th>17</th>\n",
       "      <td>sedih aku keliling rekan kerja umur sepantaran...</td>\n",
       "      <td>tidak percaya pasangan</td>\n",
       "    </tr>\n",
       "    <tr>\n",
       "      <th>25</th>\n",
       "      <td>kalau jelang gamau nikah gembar gembor kep pri...</td>\n",
       "      <td>tidak percaya pasangan</td>\n",
       "    </tr>\n",
       "    <tr>\n",
       "      <th>30</th>\n",
       "      <td>umur genap usah bahas nikah segala kamu tahun ...</td>\n",
       "      <td>tidak percaya pasangan</td>\n",
       "    </tr>\n",
       "  </tbody>\n",
       "</table>\n",
       "</div>"
      ],
      "text/plain": [
       "                                                 text         predicted_label\n",
       "17  sedih aku keliling rekan kerja umur sepantaran...  tidak percaya pasangan\n",
       "25  kalau jelang gamau nikah gembar gembor kep pri...  tidak percaya pasangan\n",
       "30  umur genap usah bahas nikah segala kamu tahun ...  tidak percaya pasangan"
      ]
     },
     "metadata": {},
     "output_type": "display_data"
    },
    {
     "name": "stdout",
     "output_type": "stream",
     "text": [
      "----------------------------------------\n",
      "Contoh untuk label: alasan ekonomi\n"
     ]
    },
    {
     "data": {
      "text/html": [
       "<div>\n",
       "<style scoped>\n",
       "    .dataframe tbody tr th:only-of-type {\n",
       "        vertical-align: middle;\n",
       "    }\n",
       "\n",
       "    .dataframe tbody tr th {\n",
       "        vertical-align: top;\n",
       "    }\n",
       "\n",
       "    .dataframe thead th {\n",
       "        text-align: right;\n",
       "    }\n",
       "</style>\n",
       "<table border=\"1\" class=\"dataframe\">\n",
       "  <thead>\n",
       "    <tr style=\"text-align: right;\">\n",
       "      <th></th>\n",
       "      <th>text</th>\n",
       "      <th>predicted_label</th>\n",
       "    </tr>\n",
       "  </thead>\n",
       "  <tbody>\n",
       "    <tr>\n",
       "      <th>57</th>\n",
       "      <td>semangatin orang tua anak muda nikah takut pun...</td>\n",
       "      <td>alasan ekonomi</td>\n",
       "    </tr>\n",
       "    <tr>\n",
       "      <th>60</th>\n",
       "      <td>orang banyak takut nikah salah satu faktor eko...</td>\n",
       "      <td>alasan ekonomi</td>\n",
       "    </tr>\n",
       "    <tr>\n",
       "      <th>61</th>\n",
       "      <td>inded makanya skrg pikir nikah ngebiayain hidu...</td>\n",
       "      <td>alasan ekonomi</td>\n",
       "    </tr>\n",
       "  </tbody>\n",
       "</table>\n",
       "</div>"
      ],
      "text/plain": [
       "                                                 text predicted_label\n",
       "57  semangatin orang tua anak muda nikah takut pun...  alasan ekonomi\n",
       "60  orang banyak takut nikah salah satu faktor eko...  alasan ekonomi\n",
       "61  inded makanya skrg pikir nikah ngebiayain hidu...  alasan ekonomi"
      ]
     },
     "metadata": {},
     "output_type": "display_data"
    },
    {
     "name": "stdout",
     "output_type": "stream",
     "text": [
      "----------------------------------------\n",
      "Contoh untuk label: takut gagal membangun keluarga\n"
     ]
    },
    {
     "data": {
      "text/html": [
       "<div>\n",
       "<style scoped>\n",
       "    .dataframe tbody tr th:only-of-type {\n",
       "        vertical-align: middle;\n",
       "    }\n",
       "\n",
       "    .dataframe tbody tr th {\n",
       "        vertical-align: top;\n",
       "    }\n",
       "\n",
       "    .dataframe thead th {\n",
       "        text-align: right;\n",
       "    }\n",
       "</style>\n",
       "<table border=\"1\" class=\"dataframe\">\n",
       "  <thead>\n",
       "    <tr style=\"text-align: right;\">\n",
       "      <th></th>\n",
       "      <th>text</th>\n",
       "      <th>predicted_label</th>\n",
       "    </tr>\n",
       "  </thead>\n",
       "  <tbody>\n",
       "    <tr>\n",
       "      <th>64</th>\n",
       "      <td>pas aku daftar snmptn dulu jga nekat ketar tir...</td>\n",
       "      <td>takut gagal membangun keluarga</td>\n",
       "    </tr>\n",
       "    <tr>\n",
       "      <th>71</th>\n",
       "      <td>kak no salty aku cewe aku mikir hidup wanita t...</td>\n",
       "      <td>takut gagal membangun keluarga</td>\n",
       "    </tr>\n",
       "    <tr>\n",
       "      <th>78</th>\n",
       "      <td>asa ubah dikit cinta ma yah asa ubah samsek ni...</td>\n",
       "      <td>takut gagal membangun keluarga</td>\n",
       "    </tr>\n",
       "  </tbody>\n",
       "</table>\n",
       "</div>"
      ],
      "text/plain": [
       "                                                 text  \\\n",
       "64  pas aku daftar snmptn dulu jga nekat ketar tir...   \n",
       "71  kak no salty aku cewe aku mikir hidup wanita t...   \n",
       "78  asa ubah dikit cinta ma yah asa ubah samsek ni...   \n",
       "\n",
       "                   predicted_label  \n",
       "64  takut gagal membangun keluarga  \n",
       "71  takut gagal membangun keluarga  \n",
       "78  takut gagal membangun keluarga  "
      ]
     },
     "metadata": {},
     "output_type": "display_data"
    },
    {
     "name": "stdout",
     "output_type": "stream",
     "text": [
      "----------------------------------------\n"
     ]
    }
   ],
   "source": [
    "for label in df_topic['predicted_label'].unique():\n",
    "    print(f\"Contoh untuk label: {label}\")\n",
    "    display(df_topic[df_topic['predicted_label'] == label].head(3))\n",
    "    print(\"-\" * 40)"
   ]
  },
  {
   "cell_type": "markdown",
   "id": "8f6be957",
   "metadata": {},
   "source": [
    "## Satire or sarkas"
   ]
  },
  {
   "cell_type": "code",
   "execution_count": 43,
   "id": "130c640e",
   "metadata": {},
   "outputs": [
    {
     "data": {
      "text/plain": [
       "Text(0.5, 1.0, 'Proporsi Tweet Satire')"
      ]
     },
     "execution_count": 43,
     "metadata": {},
     "output_type": "execute_result"
    },
    {
     "data": {
      "image/png": "[encoded data removed]",
      "text/plain": [
       "<Figure size 640x480 with 1 Axes>"
      ]
     },
     "metadata": {},
     "output_type": "display_data"
    }
   ],
   "source": [
    "df_nlp['is_satire'].value_counts().plot(kind='pie', autopct='%1.1f%%', labels=['Serius', 'Satire'])\n",
    "plt.title(\"Proporsi Tweet Satire\")\n"
   ]
  }
 ],
 "metadata": {
  "kernelspec": {
   "display_name": "base",
   "language": "python",
   "name": "python3"
  },
  "language_info": {
   "codemirror_mode": {
    "name": "ipython",
    "version": 3
   },
   "file_extension": ".py",
   "mimetype": "text/x-python",
   "name": "python",
   "nbconvert_exporter": "python",
   "pygments_lexer": "ipython3",
   "version": "3.12.3"
  }
 },
 "nbformat": 4,
 "nbformat_minor": 5
}
