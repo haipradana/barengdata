{
 "cells": [
  {
   "cell_type": "code",
   "execution_count": 1,
   "id": "e6555cd9",
   "metadata": {},
   "outputs": [],
   "source": [
    "import pandas as pd"
   ]
  },
  {
   "cell_type": "code",
   "execution_count": 2,
   "id": "d4e4eb1c",
   "metadata": {},
   "outputs": [],
   "source": [
    "data1 = pd.read_csv('gamau_nikah.csv')\n",
    "data2 = pd.read_csv('nikah_mahal_takut.csv')\n",
    "data3 = pd.read_csv('takut-nikah.csv')\n",
    "data4 = pd.read_csv('trauma_menikah.csv')\n",
    "data5 = pd.read_csv('trauma_nikah.csv')"
   ]
  },
  {
   "cell_type": "code",
   "execution_count": 3,
   "id": "aa5ddef9",
   "metadata": {},
   "outputs": [
    {
     "data": {
      "text/html": [
       "<div>\n",
       "<style scoped>\n",
       "    .dataframe tbody tr th:only-of-type {\n",
       "        vertical-align: middle;\n",
       "    }\n",
       "\n",
       "    .dataframe tbody tr th {\n",
       "        vertical-align: top;\n",
       "    }\n",
       "\n",
       "    .dataframe thead th {\n",
       "        text-align: right;\n",
       "    }\n",
       "</style>\n",
       "<table border=\"1\" class=\"dataframe\">\n",
       "  <thead>\n",
       "    <tr style=\"text-align: right;\">\n",
       "      <th></th>\n",
       "      <th>Name</th>\n",
       "      <th>Handle</th>\n",
       "      <th>Timestamp</th>\n",
       "      <th>Verified</th>\n",
       "      <th>Content</th>\n",
       "      <th>Comments</th>\n",
       "      <th>Retweets</th>\n",
       "      <th>Likes</th>\n",
       "      <th>Analytics</th>\n",
       "      <th>Tags</th>\n",
       "      <th>Mentions</th>\n",
       "      <th>Emojis</th>\n",
       "      <th>Profile Image</th>\n",
       "      <th>Tweet Link</th>\n",
       "      <th>Tweet ID</th>\n",
       "    </tr>\n",
       "  </thead>\n",
       "  <tbody>\n",
       "    <tr>\n",
       "      <th>0</th>\n",
       "      <td>NaN</td>\n",
       "      <td>@naruhach</td>\n",
       "      <td>2025-07-13T17:48:35.000Z</td>\n",
       "      <td>False</td>\n",
       "      <td>Blm resmi jd mantan, tapi udah ngasih trauma t...</td>\n",
       "      <td>0</td>\n",
       "      <td>0</td>\n",
       "      <td>0</td>\n",
       "      <td>0</td>\n",
       "      <td>[]</td>\n",
       "      <td>[]</td>\n",
       "      <td>[]</td>\n",
       "      <td>https://pbs.twimg.com/profile_images/192804402...</td>\n",
       "      <td>https://x.com/naruhach/status/1944453921369645182</td>\n",
       "      <td>tweet_id:1944453921369645182</td>\n",
       "    </tr>\n",
       "    <tr>\n",
       "      <th>1</th>\n",
       "      <td>sukma sayang jeno juyeon</td>\n",
       "      <td>@maadevvi</td>\n",
       "      <td>2025-07-13T17:36:18.000Z</td>\n",
       "      <td>False</td>\n",
       "      <td>papahku ditinggal meninggal gamau nikah lagi</td>\n",
       "      <td>0</td>\n",
       "      <td>0</td>\n",
       "      <td>0</td>\n",
       "      <td>4</td>\n",
       "      <td>[]</td>\n",
       "      <td>[]</td>\n",
       "      <td>['\\\\U0001f62d']</td>\n",
       "      <td>https://pbs.twimg.com/profile_images/192888315...</td>\n",
       "      <td>https://x.com/maadevvi/status/1944450827969790221</td>\n",
       "      <td>tweet_id:1944450827969790221</td>\n",
       "    </tr>\n",
       "    <tr>\n",
       "      <th>2</th>\n",
       "      <td>sukma sayang jeno juyeon</td>\n",
       "      <td>@maadevvi</td>\n",
       "      <td>2025-07-13T17:35:07.000Z</td>\n",
       "      <td>False</td>\n",
       "      <td>kecuali bapakku, dia kok disuruh nikah lagi ga...</td>\n",
       "      <td>0</td>\n",
       "      <td>0</td>\n",
       "      <td>0</td>\n",
       "      <td>5</td>\n",
       "      <td>[]</td>\n",
       "      <td>[]</td>\n",
       "      <td>['\\\\U0001f62d']</td>\n",
       "      <td>https://pbs.twimg.com/profile_images/192888315...</td>\n",
       "      <td>https://x.com/maadevvi/status/1944450532472484304</td>\n",
       "      <td>tweet_id:1944450532472484304</td>\n",
       "    </tr>\n",
       "    <tr>\n",
       "      <th>3</th>\n",
       "      <td>kucing hitam</td>\n",
       "      <td>@bluecatfav</td>\n",
       "      <td>2025-07-13T17:25:07.000Z</td>\n",
       "      <td>False</td>\n",
       "      <td>Atasan gw: \"dah cepet nikah gih, biar ga stres...</td>\n",
       "      <td>0</td>\n",
       "      <td>0</td>\n",
       "      <td>0</td>\n",
       "      <td>23</td>\n",
       "      <td>[]</td>\n",
       "      <td>[]</td>\n",
       "      <td>['\\\\U0001f926\\\\U0001f3fb\\\\u200d\\\\u2642\\\\ufe0f']</td>\n",
       "      <td>https://pbs.twimg.com/profile_images/151025262...</td>\n",
       "      <td>https://x.com/bluecatfav/status/19444480154793...</td>\n",
       "      <td>tweet_id:1944448015479308751</td>\n",
       "    </tr>\n",
       "    <tr>\n",
       "      <th>4</th>\n",
       "      <td>ruby</td>\n",
       "      <td>@rainwallower</td>\n",
       "      <td>2025-07-13T17:12:51.000Z</td>\n",
       "      <td>False</td>\n",
       "      <td>gamau blajar maunya nikah aja ya gigi</td>\n",
       "      <td>0</td>\n",
       "      <td>0</td>\n",
       "      <td>0</td>\n",
       "      <td>2</td>\n",
       "      <td>[]</td>\n",
       "      <td>[]</td>\n",
       "      <td>[]</td>\n",
       "      <td>https://pbs.twimg.com/profile_images/194320465...</td>\n",
       "      <td>https://x.com/rainwallower/status/194444492910...</td>\n",
       "      <td>tweet_id:1944444929108763048</td>\n",
       "    </tr>\n",
       "  </tbody>\n",
       "</table>\n",
       "</div>"
      ],
      "text/plain": [
       "                       Name         Handle                 Timestamp  \\\n",
       "0                       NaN      @naruhach  2025-07-13T17:48:35.000Z   \n",
       "1  sukma sayang jeno juyeon      @maadevvi  2025-07-13T17:36:18.000Z   \n",
       "2  sukma sayang jeno juyeon      @maadevvi  2025-07-13T17:35:07.000Z   \n",
       "3              kucing hitam    @bluecatfav  2025-07-13T17:25:07.000Z   \n",
       "4                      ruby  @rainwallower  2025-07-13T17:12:51.000Z   \n",
       "\n",
       "   Verified                                            Content  Comments  \\\n",
       "0     False  Blm resmi jd mantan, tapi udah ngasih trauma t...         0   \n",
       "1     False       papahku ditinggal meninggal gamau nikah lagi         0   \n",
       "2     False  kecuali bapakku, dia kok disuruh nikah lagi ga...         0   \n",
       "3     False  Atasan gw: \"dah cepet nikah gih, biar ga stres...         0   \n",
       "4     False              gamau blajar maunya nikah aja ya gigi         0   \n",
       "\n",
       "   Retweets  Likes Analytics Tags Mentions  \\\n",
       "0         0      0         0   []       []   \n",
       "1         0      0         4   []       []   \n",
       "2         0      0         5   []       []   \n",
       "3         0      0        23   []       []   \n",
       "4         0      0         2   []       []   \n",
       "\n",
       "                                            Emojis  \\\n",
       "0                                               []   \n",
       "1                                  ['\\\\U0001f62d']   \n",
       "2                                  ['\\\\U0001f62d']   \n",
       "3  ['\\\\U0001f926\\\\U0001f3fb\\\\u200d\\\\u2642\\\\ufe0f']   \n",
       "4                                               []   \n",
       "\n",
       "                                       Profile Image  \\\n",
       "0  https://pbs.twimg.com/profile_images/192804402...   \n",
       "1  https://pbs.twimg.com/profile_images/192888315...   \n",
       "2  https://pbs.twimg.com/profile_images/192888315...   \n",
       "3  https://pbs.twimg.com/profile_images/151025262...   \n",
       "4  https://pbs.twimg.com/profile_images/194320465...   \n",
       "\n",
       "                                          Tweet Link  \\\n",
       "0  https://x.com/naruhach/status/1944453921369645182   \n",
       "1  https://x.com/maadevvi/status/1944450827969790221   \n",
       "2  https://x.com/maadevvi/status/1944450532472484304   \n",
       "3  https://x.com/bluecatfav/status/19444480154793...   \n",
       "4  https://x.com/rainwallower/status/194444492910...   \n",
       "\n",
       "                       Tweet ID  \n",
       "0  tweet_id:1944453921369645182  \n",
       "1  tweet_id:1944450827969790221  \n",
       "2  tweet_id:1944450532472484304  \n",
       "3  tweet_id:1944448015479308751  \n",
       "4  tweet_id:1944444929108763048  "
      ]
     },
     "execution_count": 3,
     "metadata": {},
     "output_type": "execute_result"
    }
   ],
   "source": [
    "df = pd.concat([data1, data2, data3, data4, data5], ignore_index=True)\n",
    "df.head()"
   ]
  },
  {
   "cell_type": "code",
   "execution_count": 4,
   "id": "fb8c95a9",
   "metadata": {},
   "outputs": [
    {
     "data": {
      "text/html": [
       "<div>\n",
       "<style scoped>\n",
       "    .dataframe tbody tr th:only-of-type {\n",
       "        vertical-align: middle;\n",
       "    }\n",
       "\n",
       "    .dataframe tbody tr th {\n",
       "        vertical-align: top;\n",
       "    }\n",
       "\n",
       "    .dataframe thead th {\n",
       "        text-align: right;\n",
       "    }\n",
       "</style>\n",
       "<table border=\"1\" class=\"dataframe\">\n",
       "  <thead>\n",
       "    <tr style=\"text-align: right;\">\n",
       "      <th></th>\n",
       "      <th>Content</th>\n",
       "    </tr>\n",
       "  </thead>\n",
       "  <tbody>\n",
       "    <tr>\n",
       "      <th>0</th>\n",
       "      <td>Blm resmi jd mantan, tapi udah ngasih trauma t...</td>\n",
       "    </tr>\n",
       "    <tr>\n",
       "      <th>1</th>\n",
       "      <td>papahku ditinggal meninggal gamau nikah lagi</td>\n",
       "    </tr>\n",
       "    <tr>\n",
       "      <th>2</th>\n",
       "      <td>kecuali bapakku, dia kok disuruh nikah lagi ga...</td>\n",
       "    </tr>\n",
       "    <tr>\n",
       "      <th>3</th>\n",
       "      <td>Atasan gw: \"dah cepet nikah gih, biar ga stres...</td>\n",
       "    </tr>\n",
       "    <tr>\n",
       "      <th>4</th>\n",
       "      <td>gamau blajar maunya nikah aja ya gigi</td>\n",
       "    </tr>\n",
       "  </tbody>\n",
       "</table>\n",
       "</div>"
      ],
      "text/plain": [
       "                                             Content\n",
       "0  Blm resmi jd mantan, tapi udah ngasih trauma t...\n",
       "1       papahku ditinggal meninggal gamau nikah lagi\n",
       "2  kecuali bapakku, dia kok disuruh nikah lagi ga...\n",
       "3  Atasan gw: \"dah cepet nikah gih, biar ga stres...\n",
       "4              gamau blajar maunya nikah aja ya gigi"
      ]
     },
     "execution_count": 4,
     "metadata": {},
     "output_type": "execute_result"
    }
   ],
   "source": [
    "df =  df[['Content']]\n",
    "df.head()"
   ]
  },
  {
   "cell_type": "code",
   "execution_count": 5,
   "id": "7e91a39e",
   "metadata": {},
   "outputs": [
    {
     "data": {
      "text/plain": [
       "650"
      ]
     },
     "execution_count": 5,
     "metadata": {},
     "output_type": "execute_result"
    }
   ],
   "source": [
    "len(df)"
   ]
  },
  {
   "cell_type": "code",
   "execution_count": 6,
   "id": "e7393b22",
   "metadata": {},
   "outputs": [
    {
     "data": {
      "text/plain": [
       "Content    0\n",
       "dtype: int64"
      ]
     },
     "execution_count": 6,
     "metadata": {},
     "output_type": "execute_result"
    }
   ],
   "source": [
    "df.isnull().sum()"
   ]
  },
  {
   "cell_type": "code",
   "execution_count": 7,
   "id": "aeb1fa80",
   "metadata": {},
   "outputs": [
    {
     "data": {
      "text/html": [
       "<div>\n",
       "<style scoped>\n",
       "    .dataframe tbody tr th:only-of-type {\n",
       "        vertical-align: middle;\n",
       "    }\n",
       "\n",
       "    .dataframe tbody tr th {\n",
       "        vertical-align: top;\n",
       "    }\n",
       "\n",
       "    .dataframe thead th {\n",
       "        text-align: right;\n",
       "    }\n",
       "</style>\n",
       "<table border=\"1\" class=\"dataframe\">\n",
       "  <thead>\n",
       "    <tr style=\"text-align: right;\">\n",
       "      <th></th>\n",
       "      <th>Content</th>\n",
       "    </tr>\n",
       "  </thead>\n",
       "  <tbody>\n",
       "    <tr>\n",
       "      <th>0</th>\n",
       "      <td>blm resmi jd mantan, tapi udah ngasih trauma t...</td>\n",
       "    </tr>\n",
       "    <tr>\n",
       "      <th>1</th>\n",
       "      <td>papahku ditinggal meninggal gamau nikah lagi</td>\n",
       "    </tr>\n",
       "    <tr>\n",
       "      <th>2</th>\n",
       "      <td>kecuali bapakku, dia kok disuruh nikah lagi ga...</td>\n",
       "    </tr>\n",
       "    <tr>\n",
       "      <th>3</th>\n",
       "      <td>atasan gw: \"dah cepet nikah gih, biar ga stres...</td>\n",
       "    </tr>\n",
       "    <tr>\n",
       "      <th>4</th>\n",
       "      <td>gamau blajar maunya nikah aja ya gigi</td>\n",
       "    </tr>\n",
       "  </tbody>\n",
       "</table>\n",
       "</div>"
      ],
      "text/plain": [
       "                                             Content\n",
       "0  blm resmi jd mantan, tapi udah ngasih trauma t...\n",
       "1       papahku ditinggal meninggal gamau nikah lagi\n",
       "2  kecuali bapakku, dia kok disuruh nikah lagi ga...\n",
       "3  atasan gw: \"dah cepet nikah gih, biar ga stres...\n",
       "4              gamau blajar maunya nikah aja ya gigi"
      ]
     },
     "execution_count": 7,
     "metadata": {},
     "output_type": "execute_result"
    }
   ],
   "source": [
    "# Mengubah ke lowercase dengan handling null values\n",
    "df['Content'] = df['Content'].astype(str).str.lower()\n",
    "df.head()"
   ]
  },
  {
   "cell_type": "code",
   "execution_count": 8,
   "id": "7ac804b3",
   "metadata": {},
   "outputs": [],
   "source": [
    "import re\n",
    "\n",
    "def clean_text(text):\n",
    "    text = text.replace('\\n', ' ').replace('\\r', ' ').replace('\\t', ' ') # hapus newline dan tab\n",
    "    # Hapus link dulu!\n",
    "    text = re.sub(r'http\\S+|www\\.\\S+|[a-zA-Z0-9.-]+\\.(com|id|org|net|co|ac|go|edu|my|ly|me|co.id|web.id|sch.id|xyz|info|io|ai|gov|biz|tv|cc|us|uk|sg|jp|kr|cn|ru|au|fr|de|es|it|nl|se|no|fi|dk|pl|cz|tr|in|za|br|mx|ca|ar|ch|at|be|pt|gr|ro|ua|by|lt|lv|ee|sk|hu|bg|rs|hr|si|ba|mk|al|ge|am|az|kg|kz|tj|tm|uz|vn|th|ph|my|sg|hk|tw|mo|pk|bd|lk|np|mv|ir|iq|il|sa|ae|qa|kw|om|bh|ye|jo|lb|sy|ps|af|mn|kh|la|mm|bt|tl|bn|id|my|sg|th|vn|ph|kr|jp|cn|tw|hk|mo|mn|ru|kz|uz|kg|tj|tm|az|am|ge|tr|cy|gr|bg|ro|md|ua|by|pl|lt|lv|ee|fi|se|no|dk|is|ie|uk|nl|be|lu|fr|de|ch|at|cz|sk|hu|si|hr|ba|rs|me|al|mk|it|sm|va|mt|es|pt|ad|mc|li|gl|fo|ax|sj|eu|int|arpa|mil|edu|gov|biz|info|name|pro|aero|coop|museum|asia|cat|jobs|mobi|tel|travel|xxx|id|co.id|web.id|sch.id|or.id|ac.id|go.id|mil.id|my.id|biz.id|desa.id|ponpes.id|sch.id|web.id|id|co|or|ac|sch|go|mil|my|biz|desa|ponpes|web|sch|id)\\b', '', text)\n",
    "    # Hapus angka dan bullet (misal: 1. 2. 3.)\n",
    "    text = re.sub(r'\\d+\\.', '', text)\n",
    "    # Hapus karakter non-alfabet (kecuali spasi)\n",
    "    text = re.sub(r'[^a-zA-Z\\s]', '', text)\n",
    "    # Hapus spasi berlebih\n",
    "    text = re.sub(r'\\s+', ' ', text)\n",
    "    return text.strip().lower()\n",
    "\n",
    "df['Content'] = df['Content'].astype(str).apply(clean_text)"
   ]
  },
  {
   "cell_type": "code",
   "execution_count": 10,
   "id": "cf07b89e",
   "metadata": {},
   "outputs": [],
   "source": [
    "df = df.rename(columns={'Content': 'text'})"
   ]
  },
  {
   "cell_type": "code",
   "execution_count": 11,
   "id": "105f7605",
   "metadata": {},
   "outputs": [],
   "source": [
    "# Menyimpan ke file CSV\n",
    "df.to_csv('combined_data.csv', index=False)"
   ]
  }
 ],
 "metadata": {
  "kernelspec": {
   "display_name": "base",
   "language": "python",
   "name": "python3"
  },
  "language_info": {
   "codemirror_mode": {
    "name": "ipython",
    "version": 3
   },
   "file_extension": ".py",
   "mimetype": "text/x-python",
   "name": "python",
   "nbconvert_exporter": "python",
   "pygments_lexer": "ipython3",
   "version": "3.12.3"
  }
 },
 "nbformat": 4,
 "nbformat_minor": 5
}
